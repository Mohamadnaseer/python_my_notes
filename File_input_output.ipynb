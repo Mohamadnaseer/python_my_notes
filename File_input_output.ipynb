{
 "cells": [
  {
   "cell_type": "markdown",
   "id": "be7071c9",
   "metadata": {},
   "source": [
    "# Files\n",
    "\n",
    "Python uses file objects to interact with the external files on your computer. These file objects cab be of any file format on your computer i.e. can be an audio file, a text file, emails, Excel documents, etc. Note that You will probably need to install certain libraries or modules to interact with those various file types, but they are easily available. (We will cover downloading modules later on in the course).\n",
    "\n",
    "Python has a built-in open function that allows us to open and play with basic file types. First we will need a file though. We're going to use some iPython magic to create a text file!\n",
    "\n",
    "## iPython Writing a File"
   ]
  },
  {
   "cell_type": "code",
   "execution_count": 1,
   "id": "2e35d115",
   "metadata": {},
   "outputs": [
    {
     "name": "stdout",
     "output_type": "stream",
     "text": [
      "Overwriting text1.txt\n"
     ]
    }
   ],
   "source": [
    "%%writefile text1.txt\n",
    "hello everyone,welcome"
   ]
  },
  {
   "cell_type": "code",
   "execution_count": 2,
   "id": "069ea9c7",
   "metadata": {},
   "outputs": [
    {
     "data": {
      "text/plain": [
       "'C:\\\\Users\\\\hp\\\\Documents\\\\machine learning\\\\python'"
      ]
     },
     "execution_count": 2,
     "metadata": {},
     "output_type": "execute_result"
    }
   ],
   "source": [
    "pwd()"
   ]
  },
  {
   "cell_type": "markdown",
   "id": "92bcd658",
   "metadata": {},
   "source": [
    "# Python Opening a file\n",
    "\n",
    "We can open a file with the open() function. This function also takes in arguments (also called parameters). Let's see how this is used:"
   ]
  },
  {
   "cell_type": "markdown",
   "id": "9f0a8bf0",
   "metadata": {},
   "source": [
    "Python has a built-in **`open()`** function to open a file. This function returns a file object, also called a handle, as it is used to read or modify the file accordingly.\n",
    "\n",
    "```python\n",
    ">>> f = open(\"test.txt\")  # open file in current directory\n",
    ">>> f = open(\"C:/Python99/README.txt\")   # specifying full path\n",
    "```\n",
    "\n",
    "We can specify the mode while opening a file. In mode, we specify whether we want to read **`r`**, write **`w`** or append **`a`** to the file. We can also specify if we want to open the file in text mode or binary mode.\n",
    "\n",
    "The default is reading in text mode. In this mode, we get strings when reading from the file.\n",
    "\n",
    "On the other hand, binary mode returns bytes and this is the mode to be used when dealing with non-text files like images or executable files.\n",
    "\n",
    "| Mode | Description |\n",
    "|:----:| :--- |\n",
    "| **`r`** | **Read** -Opens a file for reading only. The file pointer is placed at the beginning of the file. This is the default mode.   | \n",
    "| **`t`** | **Text** - Opens in text mode. (default).   | \n",
    "| **`b`** | **Binary** - Opens in binary mode (e.g. images).  | \n",
    "| **`x`** | **Create** - Opens a file for exclusive creation. If the file already exists, the operation fails.   | \n",
    "| **`rb`** | Opens a file for reading only in binary format. The file pointer is placed at the beginning of the file. This is the default mode.   | \n",
    "| **`r+`** | Opens a file for both reading and writing. The file pointer placed at the beginning of the file.   | \n",
    "| **`rb+`** | Opens a file for both reading and writing in binary format. The file pointer placed at the beginning of the file.   |  \n",
    "| **`w`** | **Write** - Opens a file for writing only. Overwrites the file if the file exists. If the file does not exist, creates a new file for writing.   | \n",
    "| **`wb`** | Opens a file for writing only in binary format. Overwrites the file if the file exists. If the file does not exist, creates a new file for writing.   | \n",
    "| **`w+`** | Opens a file for both writing and reading. Overwrites the existing file if the file exists. If the file does not exist, creates a new file for reading and writing.   | \n",
    "| **`wb+`** | Opens a file for both writing and reading in binary format. Overwrites the existing file if the file exists. If the file does not exist, creates a new file for reading and writing.   | \n",
    "| **`a`** | **Append** - Opens a file for appending. The file pointer is at the end of the file if the file exists. That is, the file is in the append mode. If the file does not exist, it creates a new file for writing.   | \n",
    "| **`ab`** | Opens a file for appending in binary format. The file pointer is at the end of the file if the file exists. That is, the file is in the append mode. If the file does not exist, it creates a new file for writing.   | \n",
    "| **`a+`** | Opens a file for both appending and reading. The file pointer is at the end of the file if the file exists. The file opens in the append mode. If the file does not exist, it creates a new file for reading and writing.   |\n",
    "| **`ab+`** | Opens a file for both appending and reading in binary format. The file pointer is at the end of the file if the file exists. The file opens in the append mode. If the file does not exist, it creates a new file for reading and writing.   |  "
   ]
  },
  {
   "cell_type": "code",
   "execution_count": 3,
   "id": "99a68f4e",
   "metadata": {},
   "outputs": [],
   "source": [
    "#open the text file we made earlier\n",
    "my_file=open(\"text1.txt\")"
   ]
  },
  {
   "cell_type": "code",
   "execution_count": 4,
   "id": "6ae3270c",
   "metadata": {},
   "outputs": [
    {
     "data": {
      "text/plain": [
       "<_io.TextIOWrapper name='text1.txt' mode='r' encoding='cp1252'>"
      ]
     },
     "execution_count": 4,
     "metadata": {},
     "output_type": "execute_result"
    }
   ],
   "source": [
    "my_file"
   ]
  },
  {
   "cell_type": "code",
   "execution_count": 5,
   "id": "31f022ba",
   "metadata": {},
   "outputs": [
    {
     "data": {
      "text/plain": [
       "'hello everyone,welcome\\n'"
      ]
     },
     "execution_count": 5,
     "metadata": {},
     "output_type": "execute_result"
    }
   ],
   "source": [
    "#we can read the file\n",
    "my_file.read()"
   ]
  },
  {
   "cell_type": "code",
   "execution_count": 6,
   "id": "3811b1eb",
   "metadata": {},
   "outputs": [
    {
     "data": {
      "text/plain": [
       "''"
      ]
     },
     "execution_count": 6,
     "metadata": {},
     "output_type": "execute_result"
    }
   ],
   "source": [
    "# But what happens if we try to read it again?\n",
    "my_file.read()"
   ]
  },
  {
   "cell_type": "markdown",
   "id": "12a78f41",
   "metadata": {},
   "source": [
    "This happens because you can imagine the reading \"cursor\" is at the end of the file after having read it. So there is nothing left to read. We can reset the \"cursor\" like this:"
   ]
  },
  {
   "cell_type": "code",
   "execution_count": 7,
   "id": "acfaeebf",
   "metadata": {},
   "outputs": [
    {
     "data": {
      "text/plain": [
       "10"
      ]
     },
     "execution_count": 7,
     "metadata": {},
     "output_type": "execute_result"
    }
   ],
   "source": [
    "#seek to the start of file\n",
    "my_file.seek(10)"
   ]
  },
  {
   "cell_type": "code",
   "execution_count": 8,
   "id": "e65df7a8",
   "metadata": {},
   "outputs": [
    {
     "data": {
      "text/plain": [
       "'yone,welcome\\n'"
      ]
     },
     "execution_count": 8,
     "metadata": {},
     "output_type": "execute_result"
    }
   ],
   "source": [
    "my_file.read()"
   ]
  },
  {
   "cell_type": "code",
   "execution_count": 9,
   "id": "537f74de",
   "metadata": {},
   "outputs": [
    {
     "data": {
      "text/plain": [
       "0"
      ]
     },
     "execution_count": 9,
     "metadata": {},
     "output_type": "execute_result"
    }
   ],
   "source": [
    "my_file.seek(0)"
   ]
  },
  {
   "cell_type": "code",
   "execution_count": 10,
   "id": "c587356b",
   "metadata": {},
   "outputs": [
    {
     "data": {
      "text/plain": [
       "'hello everyone,welcome\\n'"
      ]
     },
     "execution_count": 10,
     "metadata": {},
     "output_type": "execute_result"
    }
   ],
   "source": [
    "my_file.readline()"
   ]
  },
  {
   "cell_type": "markdown",
   "id": "376784fb",
   "metadata": {},
   "source": [
    "## Writing to a File\n",
    "\n",
    "By default, using the open() function will only allow us to read the file, we need to pass the argument 'w' to write over the file. For example:"
   ]
  },
  {
   "cell_type": "code",
   "execution_count": 11,
   "id": "308d5e31",
   "metadata": {},
   "outputs": [],
   "source": [
    "# Add the second argument to the function, 'w' which stands for write\n",
    "my_file=open(\"text1.txt\",mode=\"w+\")"
   ]
  },
  {
   "cell_type": "code",
   "execution_count": 12,
   "id": "063857cc",
   "metadata": {},
   "outputs": [
    {
     "data": {
      "text/plain": [
       "16"
      ]
     },
     "execution_count": 12,
     "metadata": {},
     "output_type": "execute_result"
    }
   ],
   "source": [
    "# Write to the file\n",
    "my_file.write(\"this is new file\")"
   ]
  },
  {
   "cell_type": "code",
   "execution_count": 13,
   "id": "c33f94c3",
   "metadata": {},
   "outputs": [
    {
     "data": {
      "text/plain": [
       "0"
      ]
     },
     "execution_count": 13,
     "metadata": {},
     "output_type": "execute_result"
    }
   ],
   "source": [
    "my_file.seek(0)"
   ]
  },
  {
   "cell_type": "code",
   "execution_count": 14,
   "id": "b9736acc",
   "metadata": {},
   "outputs": [
    {
     "data": {
      "text/plain": [
       "'this is new file'"
      ]
     },
     "execution_count": 14,
     "metadata": {},
     "output_type": "execute_result"
    }
   ],
   "source": [
    "my_file.read()"
   ]
  },
  {
   "cell_type": "markdown",
   "id": "0d5c4f84",
   "metadata": {},
   "source": [
    "## Iterating through a File\n",
    "\n",
    "Let's get a quick preview of a for loop by iterating over a text file. First, let's make a new text file with some iPython Magic:\n"
   ]
  },
  {
   "cell_type": "code",
   "execution_count": 15,
   "id": "2ae249c8",
   "metadata": {},
   "outputs": [
    {
     "name": "stdout",
     "output_type": "stream",
     "text": [
      "Overwriting text2.txt\n"
     ]
    }
   ],
   "source": [
    "%%writefile text2.txt\n",
    "first line mohamad\n",
    "second line naseer"
   ]
  },
  {
   "cell_type": "code",
   "execution_count": 16,
   "id": "1896d738",
   "metadata": {},
   "outputs": [],
   "source": [
    "my_file=open(\"text2.txt\")"
   ]
  },
  {
   "cell_type": "code",
   "execution_count": 17,
   "id": "4b62ffe9",
   "metadata": {},
   "outputs": [
    {
     "name": "stdout",
     "output_type": "stream",
     "text": [
      "first line mohamad\n",
      "\n",
      "second line naseer\n",
      "\n"
     ]
    }
   ],
   "source": [
    "#if i want to read the data line by line\n",
    "for line in my_file:\n",
    "    print(line)"
   ]
  },
  {
   "cell_type": "markdown",
   "id": "2dfb7ca1",
   "metadata": {},
   "source": [
    "# StringIO\n",
    "\n",
    "It is the StringIO module is an in-memory, file-like object. It can be used to input or output the majority of functions users can expect from an ordinary file object. Once the user creates the StringIO objects, it is initially created by providing a string to the constructor. If there is no string, the StringIO will be empty. In both instances, the initially displayed cursor on the file will start at zero.\n",
    "\n",
    "The module is not available in the most recent version of Python; thus, to be able to use this module, we need to transfer it into the Io module in Python in the form of io.StringIO."
   ]
  },
  {
   "cell_type": "code",
   "execution_count": 18,
   "id": "819cecf4",
   "metadata": {},
   "outputs": [
    {
     "data": {
      "text/plain": [
       "'mohamadnaseer'"
      ]
     },
     "execution_count": 18,
     "metadata": {},
     "output_type": "execute_result"
    }
   ],
   "source": [
    "s=\"mohamadnaseer\"\n",
    "s"
   ]
  },
  {
   "cell_type": "code",
   "execution_count": 19,
   "id": "9a619a4e",
   "metadata": {},
   "outputs": [],
   "source": [
    "from io import StringIO"
   ]
  },
  {
   "cell_type": "code",
   "execution_count": 20,
   "id": "7e6a8fdc",
   "metadata": {},
   "outputs": [],
   "source": [
    "#arbitrary string\n",
    "message = \"this is a normal sting\""
   ]
  },
  {
   "cell_type": "code",
   "execution_count": 21,
   "id": "a3c3a66e",
   "metadata": {},
   "outputs": [
    {
     "data": {
      "text/plain": [
       "str"
      ]
     },
     "execution_count": 21,
     "metadata": {},
     "output_type": "execute_result"
    }
   ],
   "source": [
    "type(message)"
   ]
  },
  {
   "cell_type": "code",
   "execution_count": 22,
   "id": "05810888",
   "metadata": {},
   "outputs": [],
   "source": [
    "# use StringIO method to set as file object\n",
    "f=StringIO(message)"
   ]
  },
  {
   "cell_type": "code",
   "execution_count": 23,
   "id": "5a523006",
   "metadata": {},
   "outputs": [
    {
     "data": {
      "text/plain": [
       "_io.StringIO"
      ]
     },
     "execution_count": 23,
     "metadata": {},
     "output_type": "execute_result"
    }
   ],
   "source": [
    "type(f) "
   ]
  },
  {
   "cell_type": "code",
   "execution_count": 24,
   "id": "9694204e",
   "metadata": {},
   "outputs": [
    {
     "data": {
      "text/plain": [
       "'this is a normal sting'"
      ]
     },
     "execution_count": 24,
     "metadata": {},
     "output_type": "execute_result"
    }
   ],
   "source": [
    "f.read()"
   ]
  },
  {
   "cell_type": "code",
   "execution_count": 25,
   "id": "bc149dab",
   "metadata": {},
   "outputs": [
    {
     "data": {
      "text/plain": [
       "39"
      ]
     },
     "execution_count": 25,
     "metadata": {},
     "output_type": "execute_result"
    }
   ],
   "source": [
    "f.write(\"second line written to file like object\")"
   ]
  },
  {
   "cell_type": "code",
   "execution_count": 26,
   "id": "8ba7de07",
   "metadata": {},
   "outputs": [
    {
     "data": {
      "text/plain": [
       "4"
      ]
     },
     "execution_count": 26,
     "metadata": {},
     "output_type": "execute_result"
    }
   ],
   "source": [
    "#reset cursor just like\n",
    "f.seek(4)"
   ]
  },
  {
   "cell_type": "code",
   "execution_count": 27,
   "id": "a327bc4f",
   "metadata": {},
   "outputs": [
    {
     "data": {
      "text/plain": [
       "' is a normal stingsecond line written to file like object'"
      ]
     },
     "execution_count": 27,
     "metadata": {},
     "output_type": "execute_result"
    }
   ],
   "source": [
    "f.read()"
   ]
  },
  {
   "cell_type": "markdown",
   "id": "8381eb1b",
   "metadata": {},
   "source": [
    "# Python File Methods\n",
    "\n",
    "There are various methods available with the file object. Some of them have been used in the above examples.\n",
    "\n",
    "Here is the complete list of methods in text mode with a brief description:\n",
    "\n",
    "| Method | Description |\n",
    "|:----| :--- |\n",
    "| **`close()`** |   Closes an opened file. It has no effect if the file is already closed.   | \n",
    "| **`detach()`** |   Separates the underlying binary buffer from the **`TextIOBase`** and returns it.   | \n",
    "| **`fileno()`** |   Returns an integer number (file descriptor) of the file.   | \n",
    "| **`flush()`** |   Flushes the write buffer of the file stream.   | \n",
    "| **`isatty()`** |   Returns **`True`** if the file stream is interactive.   | \n",
    "| **`read(n)`** |   Reads at most `n` characters from the file. Reads till end of file if it is negative or `None`.   | \n",
    "| **`readable()`** |   Returns **`True`** if the file stream can be read from.   | \n",
    "| **`readline(n=-1)`** |   Reads and returns one line from the file. Reads in at most **`n`** bytes if specified.   | \n",
    "| **`readlines(n=-1)`** |   Reads and returns a list of lines from the file. Reads in at most **`n`** bytes/characters if specified.   | \n",
    "| **`seek(offset,from=SEEK_SET)`** |   Changes the file position to **`offset`** bytes, in reference to `from` (start, current, end).   | \n",
    "| **`seekable()`** |   Returns **`True`** if the file stream supports random access.   | \n",
    "| **`tell()`** |   Returns the current file location.   | \n",
    "| **`truncate(size=None)`** |   Resizes the file stream to **`size`** bytes. If **`size`** is not specified, resizes to current location..   | \n",
    "| **`writable()`** |   Returns **`True`** if the file stream can be written to.   | \n",
    "| **`write(s)`** |   Writes the string **`s`** to the file and returns the number of characters written..   | \n",
    "| **`writelines(lines)`** |   Writes a list of **`lines`** to the file..   | "
   ]
  },
  {
   "cell_type": "markdown",
   "id": "6e178527",
   "metadata": {},
   "source": [
    "# Deleting Files\n",
    "We have seen in previous section, how to make and remove a directory using os module (04_Python_Functions ➞ 007_Python_Function_Module ➞ Python Built-In Modules). Again now, if we want to remove a file we use os module."
   ]
  },
  {
   "cell_type": "code",
   "execution_count": 29,
   "id": "0c74bfb8",
   "metadata": {},
   "outputs": [],
   "source": [
    "import os\n",
    "os.remove(\"text3.txt\")"
   ]
  },
  {
   "cell_type": "code",
   "execution_count": 31,
   "id": "428c1e6f",
   "metadata": {},
   "outputs": [
    {
     "name": "stdout",
     "output_type": "stream",
     "text": [
      "The file does not exist\n"
     ]
    }
   ],
   "source": [
    "import os\n",
    "if os.path.exists('./files/text3.txt'):\n",
    "    os.remove('./files/text3.txt')\n",
    "else:\n",
    "    print('The file does not exist')"
   ]
  },
  {
   "cell_type": "markdown",
   "id": "91df2704",
   "metadata": {},
   "source": [
    "# File type"
   ]
  },
  {
   "cell_type": "markdown",
   "id": "19614072",
   "metadata": {},
   "source": [
    "## File with txt Extension\n",
    "\n",
    "File with **txt** extension is a very common form of data and we have covered it in the previous section. Let us move to the JSON file."
   ]
  },
  {
   "cell_type": "markdown",
   "id": "b55a9f0f",
   "metadata": {},
   "source": [
    "## File with json Extension\n",
    "\n",
    "JSON stands for **J**ava**s**cript **O**bject **N**otation. Actually, it is a stringified JavaScript object or Python dictionary."
   ]
  },
  {
   "cell_type": "code",
   "execution_count": 32,
   "id": "5fd81325",
   "metadata": {},
   "outputs": [],
   "source": [
    "import json"
   ]
  },
  {
   "cell_type": "code",
   "execution_count": 33,
   "id": "f60be825",
   "metadata": {},
   "outputs": [],
   "source": [
    "person = {\n",
    "    \"name\":\"mohamadnaseer\",\n",
    "    \"country\":\"india\",\n",
    "    \"city\":\"Chennai\",\n",
    "    \"skills\":[\"Python\", \"MATLAB\",\"c#\"]\n",
    "}"
   ]
  },
  {
   "cell_type": "code",
   "execution_count": 36,
   "id": "c5898b7d",
   "metadata": {},
   "outputs": [
    {
     "name": "stdout",
     "output_type": "stream",
     "text": [
      "<class 'str'>\n",
      "{\n",
      "    \"name\": \"mohamadnaseer\",\n",
      "    \"country\": \"india\",\n",
      "    \"city\": \"Chennai\",\n",
      "    \"skills\": [\n",
      "        \"Python\",\n",
      "        \"MATLAB\",\n",
      "        \"c#\"\n",
      "    ]\n",
      "}\n"
     ]
    }
   ],
   "source": [
    "# let's convert it to  json\n",
    "person_json = json.dumps(person, indent=4) # indent could be 2, 4, 8. It beautifies the json\n",
    "print(type(person_json))\n",
    "print(person_json)\n",
    "\n",
    "# when you print it, it does not have the quote, but actually it is a string\n",
    "# JSON does not have type, it is a string type."
   ]
  },
  {
   "cell_type": "markdown",
   "id": "a25d5e33",
   "metadata": {},
   "source": [
    "### Saving as JSON File\n",
    "\n",
    "We can also save our data as a json file. Let us save it as a json file using the following steps. For writing a json file, we use the **`json.dump()`** method, it can take dictionary, output file, **`ensure_ascii`** and **`indent`**."
   ]
  },
  {
   "cell_type": "code",
   "execution_count": 37,
   "id": "3602d2d6",
   "metadata": {},
   "outputs": [],
   "source": [
    "with open('json_example.json', 'w', encoding='utf-8') as f:\n",
    "    json.dump(person, f, ensure_ascii=False, indent=4)"
   ]
  },
  {
   "cell_type": "markdown",
   "id": "2610032b",
   "metadata": {},
   "source": [
    "### File with csv Extension\n",
    "\n",
    "**CSV** stands for **C**omma **S**eparated **V**alues. CSV is a simple file format used to store tabular data, such as a spreadsheet or database. CSV is a very common data format in data science.\n",
    "\n",
    "For example, create **csv_example.csv** in your working directory with the following contents:\n",
    "\n",
    "```csv\n",
    "\"name\",\"country\",\"city\",\"skills\"\n",
    "\"mohamadnaseer\",\"India\",\"chennai\",\"Python\"\n",
    "```"
   ]
  },
  {
   "cell_type": "code",
   "execution_count": 38,
   "id": "da2b52a1",
   "metadata": {},
   "outputs": [],
   "source": [
    "import csv"
   ]
  },
  {
   "cell_type": "code",
   "execution_count": 46,
   "id": "19d2efef",
   "metadata": {},
   "outputs": [
    {
     "name": "stdout",
     "output_type": "stream",
     "text": [
      "Column names are :name, country, city, skills\n",
      "\tmohamadnaseer is a teachers. He lives in India, chennai.And he know Python very well.\n",
      "\tmunirahamad is a teachers. He lives in India, chennai.And he know java very well.\n",
      "Number of lines:  3\n"
     ]
    }
   ],
   "source": [
    "with open('csv_example.csv') as f:\n",
    "    csv_reader = csv.reader(f, delimiter=',') \n",
    "    line_count = 0\n",
    "    for row in csv_reader:\n",
    "        if line_count == 0:\n",
    "            print(f'Column names are :{\", \".join(row)}')\n",
    "            line_count += 1\n",
    "        else:\n",
    "            print(f'\\t{row[0]} is a teachers. He lives in {row[1]}, {row[2]}.And he know {row[3]} very well.')\n",
    "            line_count += 1\n",
    "    print(f'Number of lines:  {line_count}')"
   ]
  },
  {
   "cell_type": "code",
   "execution_count": null,
   "id": "6983d30e",
   "metadata": {},
   "outputs": [],
   "source": []
  }
 ],
 "metadata": {
  "kernelspec": {
   "display_name": "Python 3 (ipykernel)",
   "language": "python",
   "name": "python3"
  },
  "language_info": {
   "codemirror_mode": {
    "name": "ipython",
    "version": 3
   },
   "file_extension": ".py",
   "mimetype": "text/x-python",
   "name": "python",
   "nbconvert_exporter": "python",
   "pygments_lexer": "ipython3",
   "version": "3.9.7"
  }
 },
 "nbformat": 4,
 "nbformat_minor": 5
}
