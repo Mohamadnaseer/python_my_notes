{
 "cells": [
  {
   "cell_type": "markdown",
   "id": "322b90d6",
   "metadata": {},
   "source": [
    "# Python Classes and Objects\n",
    "\n",
    "Python is an object oriented programming language.\n",
    "\n",
    "Almost everything in Python is an object, with its properties and methods.\n",
    "\n",
    "A Class is like an object constructor, or a \"blueprint\" for creating objects."
   ]
  },
  {
   "cell_type": "markdown",
   "id": "dc1203ea",
   "metadata": {},
   "source": [
    "Python is an object oriented programming language. Everything in Python is an object, with its properties and methods. A number, string, list, dictionary, tuple, set etc. used in a program is an object of a corresponding built-in class. We create class to create an object. Unlike procedure oriented programming, where the main emphasis is on functions, object oriented programming stresses on objects.\n",
    "\n",
    "An object is simply a collection of data (variables) and methods (functions) that act on those data. Similarly, a class is a blueprint for that object.\n",
    "\n",
    "We can think of class as a sketch (prototype) of a house. It contains all the details about the floors, doors, windows etc. Based on these descriptions we build the house. House is the object.\n",
    "\n",
    "As many houses can be made from a house's blueprint, we can create many objects from a class. An object is also called an instance of a class and the process of creating this object is called instantiation. We instantiate a class to create an object. The class defines attributes and the behavior of the object, while the object, on the other hand, represents the class.\n",
    "\n",
    "We have been working with classes and objects right from the beginning of this challenge unknowingly. Every element in a Python program is an object of a class. Let us check if everything in python is a class:"
   ]
  },
  {
   "cell_type": "code",
   "execution_count": 1,
   "id": "5137dbda",
   "metadata": {},
   "outputs": [],
   "source": [
    "#To create a class, use the keyword ==> class:\n",
    "class myclass:\n",
    "    x=10"
   ]
  },
  {
   "cell_type": "code",
   "execution_count": 2,
   "id": "0c430d42",
   "metadata": {},
   "outputs": [
    {
     "name": "stdout",
     "output_type": "stream",
     "text": [
      "10\n"
     ]
    }
   ],
   "source": [
    "#Now we can use the class named MyClass to create objects:\n",
    "#Create an object named p1, and print the value of x:\n",
    "p1 = myclass()\n",
    "print(p1.x)"
   ]
  },
  {
   "cell_type": "markdown",
   "id": "d9fb546a",
   "metadata": {},
   "source": [
    "# Defining a Class in Python\n",
    "Like function definitions begin with the def keyword in Python, class definitions begin with a class keyword.\n",
    "\n",
    "The first string inside the class is called docstring and has a brief description about the class. Although not mandatory, this is highly recommended.\n",
    "\n",
    "A class creates a new local namespace where all its attributes are defined. Attributes may be data or functions.\n",
    "\n",
    "There are also special attributes in it that begins with double underscores __. For example, __doc__ gives us the docstring of that class.\n",
    "\n",
    "As soon as we define a class, a new class object is created with the same name. This class object allows us to access the different attributes as well as to instantiate new objects of that class."
   ]
  },
  {
   "cell_type": "code",
   "execution_count": 6,
   "id": "3897567d",
   "metadata": {},
   "outputs": [
    {
     "name": "stdout",
     "output_type": "stream",
     "text": [
      "10\n",
      "<function person.greet at 0x0000014A7A5C8CA0>\n",
      "this is a person class\n"
     ]
    }
   ],
   "source": [
    " class person:\n",
    "        \"this is a person class\"    \n",
    "        age=10\n",
    "        \n",
    "        def greet(self):\n",
    "            print(\"hello everyone\")\n",
    "            \n",
    "print(person.age)\n",
    "\n",
    "print(person.greet)\n",
    "\n",
    "print(person.__doc__)"
   ]
  },
  {
   "cell_type": "markdown",
   "id": "6e671423",
   "metadata": {},
   "source": [
    "# Creating an Object in Python\n",
    "\n",
    "We saw that the class object could be used to access different attributes.\n",
    "\n",
    "It can also be used to create new object instances (instantiation) of that class. The procedure to create an object is similar to a function call.\n",
    "\n",
    "p1 = Person()\n",
    "This will create a new object instance named p1. We can access the attributes of objects using the object name prefix.\n",
    "\n",
    "Attributes may be data or method. Methods of an object are corresponding functions of that class.\n",
    "\n",
    "This means to say, since Person.greet is a function object (attribute of class), Person.greet will be a method object."
   ]
  },
  {
   "cell_type": "code",
   "execution_count": 11,
   "id": "a2bd2bb3",
   "metadata": {},
   "outputs": [
    {
     "name": "stdout",
     "output_type": "stream",
     "text": [
      "<function Person.greet at 0x0000014A7A5DA5E0>\n",
      "<bound method Person.greet of <__main__.Person object at 0x0000014A7A4FDD90>>\n",
      "Hello\n"
     ]
    }
   ],
   "source": [
    "class Person:\n",
    "    \"This is a person class\"\n",
    "    age = 10\n",
    "\n",
    "    def greet(self):\n",
    "        print('Hello')\n",
    "\n",
    "# create a new object of Person class\n",
    "p1 = Person()\n",
    "\n",
    "print(Person.greet)  \n",
    "\n",
    "print(p1.greet)  \n",
    "\n",
    "# Calling object's greet() method\n",
    "harry.greet()  "
   ]
  },
  {
   "cell_type": "markdown",
   "id": "06f2d374",
   "metadata": {},
   "source": [
    "# Constructors in Python\n",
    "In Python, if a class functions that begin with double underscore __ are called special functions as they have special meaning.\n",
    "\n",
    "A class without a constructor is not really useful in real applications. A constructor is a special type of method used in Python to initialize the object of a Class. The constructor will be executed automatically when the object is created. If we create three objects, the constructor is called three times and initialize each object.\n",
    "\n",
    "The main purpose of the constructor is to declare and initialize instance variables. It can take at least one argument that is self. The  __init__() method is called the constructor in Python. In other words, the name of the constructor should be  __init__(self).\n",
    "\n",
    "A constructor is optional, and if we do not provide any constructor, then Python provides the default constructor. Every class in Python has a constructor, but it’s not required to define it."
   ]
  },
  {
   "cell_type": "markdown",
   "id": "48baedb6",
   "metadata": {},
   "source": [
    "### The __init__() Function\n",
    "\n",
    "The examples above are classes and objects in their simplest form, and are not really useful in real life applications.\n",
    "\n",
    "To understand the meaning of classes we have to understand the built-in __init__() function.\n",
    "\n",
    "All classes have a function called __init__(), which is always executed when the class is being initiated.\n",
    "\n",
    "Use the __init__() function to assign values to object properties, or other operations that are necessary to do when the object is being created:"
   ]
  },
  {
   "cell_type": "code",
   "execution_count": 14,
   "id": "249ab104",
   "metadata": {},
   "outputs": [
    {
     "name": "stdout",
     "output_type": "stream",
     "text": [
      "10+15j\n"
     ]
    }
   ],
   "source": [
    "class student:\n",
    "    def __init__(self,a=10,b=20):\n",
    "        self.num1=a\n",
    "        self.num2=b\n",
    "        \n",
    "    def display(self):\n",
    "        print(\"{0}+{1}j\".format(self.num1,self.num2))\n",
    "\n",
    "p1=student(10,15)\n",
    "p1.display()"
   ]
  },
  {
   "cell_type": "code",
   "execution_count": 17,
   "id": "a4a88a76",
   "metadata": {},
   "outputs": [
    {
     "name": "stdout",
     "output_type": "stream",
     "text": [
      "enter the number 1:50\n",
      "enter the number 2:6\n",
      "50+6j\n"
     ]
    }
   ],
   "source": [
    "#to print complex number\n",
    "class student:\n",
    "    def __init__(self,a=10,b=20):\n",
    "        self.num1=a\n",
    "        self.num2=b\n",
    "        \n",
    "    def display(self):\n",
    "        print(\"{0}+{1}j\".format(self.num1,self.num2))\n",
    "a=int(input(\"enter the number 1:\"))\n",
    "b=int(input(\"enter the number 2:\"))\n",
    "p1=student(a,b)\n",
    "p1.display()"
   ]
  },
  {
   "cell_type": "code",
   "execution_count": 28,
   "id": "4df3a7ea",
   "metadata": {},
   "outputs": [
    {
     "data": {
      "text/plain": [
       "'(2)+(3)j'"
      ]
     },
     "execution_count": 28,
     "metadata": {},
     "output_type": "execute_result"
    }
   ],
   "source": [
    "class student:\n",
    "    def __init__(self,a=2,b=3):\n",
    "        self.num1=a\n",
    "        self.num2=b\n",
    "        \n",
    "    def display(self):\n",
    "        return f\"({self.num1})+({self.num2})j\"\n",
    "p1=student(2,3)\n",
    "p1.display()"
   ]
  },
  {
   "cell_type": "code",
   "execution_count": 20,
   "id": "6cbb8e33",
   "metadata": {},
   "outputs": [
    {
     "name": "stdout",
     "output_type": "stream",
     "text": [
      "name\n",
      "1233\n",
      "name name\n",
      "reg_no 1233\n"
     ]
    }
   ],
   "source": [
    "class student:\n",
    "    def __init__(self):\n",
    "        self.name=\"name\"\n",
    "        self.reg_no=\"1233\"\n",
    "    def display(self):\n",
    "        print(\"name\",self.name)\n",
    "        print(\"reg_no\",self.reg_no)\n",
    "p1=student()\n",
    "print(p1.name)\n",
    "print(p1.reg_no)\n",
    "p1.display()+"
   ]
  },
  {
   "cell_type": "markdown",
   "id": "f5a6dd7e",
   "metadata": {},
   "source": [
    "# Types of Constructors\n",
    "We have two types of constructors in Python:\n",
    "\n",
    "### Non-parameterized:\n",
    "\n",
    "The constructors in Python which have no parameter is known as a non parameterized constructor. The non-parameterized constructor uses when we do not want to manipulate the value or the constructor that has only self as an argument.\n",
    "\n",
    "### Parameterized Constructor: \n",
    "\n",
    "The constructor with parameters is known as a parameterized constructor. The parameterized constructor has multiple parameters along with the self."
   ]
  },
  {
   "cell_type": "code",
   "execution_count": null,
   "id": "6eb10084",
   "metadata": {},
   "outputs": [],
   "source": [
    "class "
   ]
  },
  {
   "cell_type": "code",
   "execution_count": null,
   "id": "38e08598",
   "metadata": {},
   "outputs": [],
   "source": []
  },
  {
   "cell_type": "markdown",
   "id": "df634484",
   "metadata": {},
   "source": [
    "# Object Methods\n",
    "Objects can also contain methods. Methods in objects are functions that belong to the object.\n",
    "\n",
    "Let us create a method in the Person class:"
   ]
  },
  {
   "cell_type": "code",
   "execution_count": 39,
   "id": "3c925b6f",
   "metadata": {},
   "outputs": [
    {
     "name": "stdout",
     "output_type": "stream",
     "text": [
      "this is non parametrized constructor\n",
      "name: mohamad naseer\n"
     ]
    }
   ],
   "source": [
    "#Constructor without parameters (Non-parameterized)\n",
    "\n",
    "class student:\n",
    "    # Constructor - non parameterized\n",
    "    def __init__(self):\n",
    "        print(\"this is non parametrized constructor\")\n",
    "        \n",
    "    def student(self,name):\n",
    "        print(\"name:\",name)\n",
    "        \n",
    "    \n",
    "p1=student()\n",
    "p1.student(\"mohamad naseer\")\n"
   ]
  },
  {
   "cell_type": "code",
   "execution_count": 40,
   "id": "1954aa00",
   "metadata": {},
   "outputs": [
    {
     "name": "stdout",
     "output_type": "stream",
     "text": [
      "name: mohamad naseer\n",
      "reg_no: 5065\n",
      "name: munir ahamad\n",
      "reg_no: 5067\n"
     ]
    }
   ],
   "source": [
    "#by 2 passing parameter\n",
    "#The string representation of an object WITHOUT the __str__() function: \n",
    "\n",
    "class student:\n",
    "    # Constructor - parameterized\n",
    "    def __init__(self,name,reg):\n",
    "        self.name=name\n",
    "        self.reg_no=reg\n",
    "        \n",
    "    def display(self):\n",
    "        print(\"name:\",self.name)\n",
    "        print(\"reg_no:\",self.reg_no)\n",
    "        \n",
    "\n",
    "p1=student(\"mohamad naseer\",5065)\n",
    "p2=student(\"munir ahamad\",5067)\n",
    "\n",
    "p1.display()\n",
    "p2.display()\n",
    "    \n",
    "    \n",
    "    "
   ]
  },
  {
   "cell_type": "code",
   "execution_count": 41,
   "id": "08a0f409",
   "metadata": {},
   "outputs": [
    {
     "name": "stdout",
     "output_type": "stream",
     "text": [
      "mohamad naseer(5625)\n"
     ]
    }
   ],
   "source": [
    "#the string representation of an object WITH the __str__() function:\n",
    "\n",
    "class student:\n",
    "    def __init__(self,name,reg):\n",
    "        self.name=name\n",
    "        self.reg_no=reg\n",
    "        \n",
    "    def __str__(self):\n",
    "        return f\"{self.name}({self.reg_no})\"\n",
    "    \n",
    "p1=student(\"mohamad naseer\",5625)\n",
    "\n",
    "print(p1)\n",
    "    "
   ]
  },
  {
   "cell_type": "code",
   "execution_count": 47,
   "id": "c99b522f",
   "metadata": {},
   "outputs": [
    {
     "name": "stdout",
     "output_type": "stream",
     "text": [
      "naseer is a student\n",
      "hatheem is a student\n"
     ]
    }
   ],
   "source": [
    "class student:\n",
    "    #class attribute\n",
    "    species=\"student\"\n",
    "    #instance attribute\n",
    "    def __init__(self,name,reg):\n",
    "        self.name=name\n",
    "        self.reg_no=reg\n",
    "\n",
    "# instantiate the Parrot class      \n",
    "naseer=student(\"mohamad naseer\",5254)\n",
    "munir=student(\"munir ahamad\",5256)\n",
    "nour=student(\"nour ahamad\",5227)\n",
    "hatheem=student(\"mohamad hatheem\",5225)\n",
    "# access the class attributes\n",
    "print(\"naseer is a {}\".format(naseer.__class__.species))\n",
    "print(\"hatheem is a {}\".format(hatheem.__class__.species))"
   ]
  },
  {
   "cell_type": "code",
   "execution_count": 48,
   "id": "912201b1",
   "metadata": {},
   "outputs": [
    {
     "name": "stdout",
     "output_type": "stream",
     "text": [
      "name: mohamad\n",
      "reg_no: 5035\n",
      "name: naseer\n",
      "reg_no: 5036\n"
     ]
    }
   ],
   "source": [
    "class  student:\n",
    "    def __init__(self):\n",
    "        self.name=\"name\"\n",
    "        self.reg_no=\"reg_no\"\n",
    "    def display(self):\n",
    "        print(\"name:\",self.name)\n",
    "        print(\"reg_no:\",self.reg_no)\n",
    "        \n",
    "p1=student()\n",
    "p2=student()\n",
    "\n",
    "p1.name=\"mohamad\"\n",
    "p1.reg_no=\"5035\"\n",
    "\n",
    "p2.name=\"naseer\"\n",
    "p2.reg_no=\"5036\"\n",
    "    \n",
    "p1.display()\n",
    "p2.display()"
   ]
  },
  {
   "cell_type": "code",
   "execution_count": 49,
   "id": "a50858b2",
   "metadata": {},
   "outputs": [
    {
     "name": "stdout",
     "output_type": "stream",
     "text": [
      "addition: 150\n",
      "subraction: 50\n",
      "multiplication: 5000\n",
      "division: 2.0\n",
      "modulus: 0\n",
      "exponential: 10000000000000000000000000000000000000000000000000000000000000000000000000000000000000000000000000000\n",
      "floor division: 2\n"
     ]
    }
   ],
   "source": [
    "#arithimetic operatoes\n",
    "class calculate:\n",
    "    def __init__ (self,a,b):\n",
    "        self.num1=a\n",
    "        self.num2=b\n",
    "    def add(self):\n",
    "        print(\"addition:\",self.num1+self.num2)\n",
    "    def sub(self):\n",
    "        print(\"subraction:\",self.num1-self.num2)\n",
    "    def mult(self):\n",
    "        print(\"multiplication:\",self.num1*self.num2)\n",
    "    def divi(self):\n",
    "        print(\"division:\",self.num1/self.num2)\n",
    "    def mod(self):\n",
    "        print(\"modulus:\",self.num1%self.num2)\n",
    "    def expo(self):\n",
    "        print(\"exponential:\",self.num1 ** self.num2)\n",
    "    def floor(self):\n",
    "        print(\"floor division:\",self.num1 // self.num2)\n",
    "        \n",
    "p1=calculate(100,50)\n",
    "\n",
    "p1.add()\n",
    "p1.sub()\n",
    "p1.mult()\n",
    "p1.divi()\n",
    "p1.mod()\n",
    "p1.expo()\n",
    "p1.floor()\n"
   ]
  },
  {
   "cell_type": "markdown",
   "id": "5ecb24be",
   "metadata": {},
   "source": [
    "# Accessing Attributes with self Parameter\n",
    "\n",
    "The self is used to represent the instance of the class. It is the default variable that is always pointing to the current object.\n",
    "\n",
    "By using self, we can access the instance variable and instance method of the object. While defining constructor and instance method, the self is their first parameter.\n",
    "\n",
    "It’s not required the first parameter named to be self, we can give any name whatever we like, but it has to be the first parameter of any function in the class.\n",
    "\n",
    "You access the object's attributes using the dot operator with object. Class variable would be accessed using class name as follows:"
   ]
  },
  {
   "cell_type": "code",
   "execution_count": 52,
   "id": "7f27e97e",
   "metadata": {},
   "outputs": [
    {
     "name": "stdout",
     "output_type": "stream",
     "text": [
      "student name is  mohamad naseer and his reg_no is  5051\n",
      "student belong to A section\n"
     ]
    }
   ],
   "source": [
    "class student:\n",
    "    def __init__(self,name,reg):\n",
    "        self.name=name\n",
    "        self.reg_no=reg\n",
    "        \n",
    "    def info(self):\n",
    "        print(\"student name is \",self.name,\"and his reg_no is \",self.reg_no)\n",
    "        \n",
    "    def group(self):\n",
    "        print(\"student belong to A section\")\n",
    "        \n",
    "p1=student(\"mohamad naseer\",5051)\n",
    "\n",
    "p1.info()\n",
    "p1.group()\n",
    "\n",
    "#In the above example, all methods including __init__ have a self parameter. \n",
    "#We created two instance variables id and name. Then we create an object of a class student called reg_no and accessed instance methods of the class called info() and group() respectively."
   ]
  },
  {
   "cell_type": "code",
   "execution_count": 54,
   "id": "702884b3",
   "metadata": {},
   "outputs": [
    {
     "name": "stdout",
     "output_type": "stream",
     "text": [
      "total student: 4\n",
      "student name is  mohamad naseer and his reg_no is  5051\n",
      "student name is  munir ahamad and his reg_no is  5052\n",
      "student name is  mohamad hatheem and his reg_no is  5053\n",
      "student name is  nour ahamad and his reg_no is  5054\n"
     ]
    }
   ],
   "source": [
    "class student:\n",
    "    student_count=0\n",
    "    \n",
    "    def __init__(self,name,reg):\n",
    "        self.name=name\n",
    "        self.reg_no=reg\n",
    "        student.student_count+=1\n",
    "        \n",
    "    def studentinfo(self):\n",
    "        print(\"student name is \",self.name,\"and his reg_no is \",self.reg_no)\n",
    "        \n",
    "p1=student(\"mohamad naseer\",5051)\n",
    "p2=student(\"munir ahamad\",5052)\n",
    "p3=student(\"mohamad hatheem\",5053)        \n",
    "p4=student(\"nour ahamad\",5054)\n",
    "\n",
    "print(\"total student:\",student.student_count)\n",
    "\n",
    "p1.studentinfo()\n",
    "p2.studentinfo()\n",
    "p3.studentinfo()\n",
    "p4.studentinfo()"
   ]
  },
  {
   "cell_type": "markdown",
   "id": "d791651a",
   "metadata": {},
   "source": [
    "Instead of using the normal statements to access attributes, you can use the following functions:\n",
    "\n",
    "***getattr(obj, name[, default])*** −  to access the attribute of object.\n",
    "\n",
    "***hasattr(obj,name)*** − to check if an attribute exists or not.\n",
    "\n",
    "**setattr(obj,name,value)*** − to set an attribute. If attribute does not exist, then it would be created.\n",
    "\n",
    "***delattr(obj, name)*** − to delete an attribute."
   ]
  },
  {
   "cell_type": "code",
   "execution_count": 68,
   "id": "b36b6cb2",
   "metadata": {},
   "outputs": [
    {
     "data": {
      "text/plain": [
       "True"
      ]
     },
     "execution_count": 68,
     "metadata": {},
     "output_type": "execute_result"
    }
   ],
   "source": [
    "hasattr(p1, 'reg_no') # Returns true if 'reg_no' attribute exists"
   ]
  },
  {
   "cell_type": "code",
   "execution_count": 69,
   "id": "f588f994",
   "metadata": {},
   "outputs": [
    {
     "data": {
      "text/plain": [
       "4501"
      ]
     },
     "execution_count": 69,
     "metadata": {},
     "output_type": "execute_result"
    }
   ],
   "source": [
    "getattr(p1, 'reg_no')# Returns value of 'reg_no' attribute"
   ]
  },
  {
   "cell_type": "code",
   "execution_count": 70,
   "id": "dc9f81e5",
   "metadata": {},
   "outputs": [],
   "source": [
    "setattr(p1, 'reg_no', 4501)# Set attribute 'reg_no' 104"
   ]
  },
  {
   "cell_type": "code",
   "execution_count": 71,
   "id": "b27b9b06",
   "metadata": {},
   "outputs": [
    {
     "name": "stdout",
     "output_type": "stream",
     "text": [
      "student name is  mohamad naseer and his reg_no is  4501\n"
     ]
    }
   ],
   "source": [
    "p1.studentinfo()"
   ]
  },
  {
   "cell_type": "code",
   "execution_count": 74,
   "id": "72e58f86",
   "metadata": {},
   "outputs": [],
   "source": [
    "delattr(p3, 'reg_no') # Delete attribute 'reg_no'"
   ]
  },
  {
   "cell_type": "code",
   "execution_count": null,
   "id": "b4f37c5f",
   "metadata": {},
   "outputs": [],
   "source": []
  },
  {
   "cell_type": "markdown",
   "id": "c48bcb41",
   "metadata": {},
   "source": [
    "# Built-In Class Attributes\n",
    "\n",
    "Every Python class keeps following built-in attributes and they can be accessed using dot operator like any other attribute −\n",
    "\n",
    "***__ dict __***: Dictionary containing the class's namespace.\n",
    "\n",
    "***__ doc __*** : Class documentation string or none, if undefined.\n",
    "\n",
    "***__ name __*** Class name.\n",
    "\n",
    "***__ module __*** : Module name in which the class is defined. This attribute is \n",
    "\n",
    "***__ main __***: in interactive mode.\n",
    "\n",
    "***__ bases __***: A possibly empty tuple containing the base classes, in the order of \n",
    "\n",
    "their occurrence in the base class list.\n",
    "\n",
    "let us try to access all these attributes"
   ]
  },
  {
   "cell_type": "code",
   "execution_count": 87,
   "id": "906b0af6",
   "metadata": {},
   "outputs": [],
   "source": [
    "class Student:\n",
    "    'Common base class for all students'\n",
    "    student_count=0\n",
    "\n",
    "    def __init__(self, name, id):\n",
    "        self.name = name\n",
    "        self.id = id\n",
    "        Student.student_count+=1\n",
    "\n",
    "    def printStudentData(self):\n",
    "        print (\"Name : \", self.name, \", Id : \", self.id)\n",
    "\n",
    "p1=Student(\"mohamad naseer\",101)\n",
    "p2=Student(\"munir ahamad\",102)\n",
    "p3=Student(\"nour ahamad\",103)\n",
    "\n"
   ]
  },
  {
   "cell_type": "code",
   "execution_count": 89,
   "id": "e65764bb",
   "metadata": {},
   "outputs": [
    {
     "name": "stdout",
     "output_type": "stream",
     "text": [
      "Total Student :  3\n",
      "Student.__doc__: Common base class for all students\n",
      "StudentStudent.__name__: Student\n",
      "Student.__module__: __main__\n",
      "Student.__bases__: (<class 'object'>,)\n",
      "Student.__dict__: {'__module__': '__main__', '__doc__': 'Common base class for all students', 'student_count': 3, '__init__': <function Student.__init__ at 0x0000014A7A628EE0>, 'printStudentData': <function Student.printStudentData at 0x0000014A7A628E50>, '__dict__': <attribute '__dict__' of 'Student' objects>, '__weakref__': <attribute '__weakref__' of 'Student' objects>}\n"
     ]
    }
   ],
   "source": [
    "print(\"Total Student : \",Student.student_count)\n",
    "print (\"Student.__doc__:\", Student.__doc__)\n",
    "print (\"StudentStudent.__name__:\", Student.__name__)\n",
    "print (\"Student.__module__:\", Student.__module__)\n",
    "print (\"Student.__bases__:\", Student.__bases__)\n",
    "print (\"Student.__dict__:\", Student.__dict__)"
   ]
  },
  {
   "cell_type": "markdown",
   "id": "5bb6a4a5",
   "metadata": {},
   "source": [
    "## Object Properties\n",
    "\n",
    "Every object has properties with it. In other words, we can say that object property is an association between **name** and **value**.\n",
    "\n",
    "For example, a car is an object, and its properties are car color, sunroof, price, manufacture, model, engine, and so on. Here, color is the name and red is the **value**.\n",
    "\n",
    "## Modify Object Properties\n",
    "Every object has properties associated with them. We can set or modify the object’s properties after object initialization by calling the property directly using the dot operator."
   ]
  },
  {
   "cell_type": "code",
   "execution_count": 90,
   "id": "ccc22f6f",
   "metadata": {},
   "outputs": [
    {
     "name": "stdout",
     "output_type": "stream",
     "text": [
      "Fruit is strawberry and Color is red\n"
     ]
    }
   ],
   "source": [
    "class Fruit:\n",
    "    def __init__(self, name, color):\n",
    "        self.name = name\n",
    "        self.color = color\n",
    "\n",
    "    def show(self):\n",
    "        print(\"Fruit is\", self.name, \"and Color is\", self.color)\n",
    "\n",
    "# creating object of the class\n",
    "obj = Fruit(\"Apple\", \"red\")\n",
    "\n",
    "# Modifying Object Properties\n",
    "obj.name = \"strawberry\"\n",
    "\n",
    "# calling the instance method using the object obj\n",
    "obj.show()   "
   ]
  },
  {
   "cell_type": "markdown",
   "id": "137cd685",
   "metadata": {},
   "source": [
    "## Delete object properties\n",
    "\n",
    "We can delete the object property by using the **del** keyword. After deleting it, if we try to access it, we will get an error."
   ]
  },
  {
   "cell_type": "code",
   "execution_count": 93,
   "id": "127cd2a1",
   "metadata": {},
   "outputs": [],
   "source": [
    "class Fruit:\n",
    "    def __init__(self, name, color):\n",
    "        self.name = name\n",
    "        self.color = color\n",
    "\n",
    "    def show(self):\n",
    "        print(\"Fruit is\", self.name, \"and Color is\", self.color)\n",
    "\n",
    "# creating object of the class\n",
    "obj = Fruit(\"Apple\", \"red\")\n",
    "\n"
   ]
  },
  {
   "cell_type": "code",
   "execution_count": 94,
   "id": "7d288e2b",
   "metadata": {},
   "outputs": [],
   "source": [
    "# Deleting Object Properties\n",
    "del obj.name"
   ]
  },
  {
   "cell_type": "code",
   "execution_count": 95,
   "id": "2b0520eb",
   "metadata": {},
   "outputs": [
    {
     "ename": "AttributeError",
     "evalue": "'Fruit' object has no attribute 'name'",
     "output_type": "error",
     "traceback": [
      "\u001b[1;31m---------------------------------------------------------------------------\u001b[0m",
      "\u001b[1;31mAttributeError\u001b[0m                            Traceback (most recent call last)",
      "\u001b[1;32m~\\AppData\\Local\\Temp/ipykernel_9984/3378689698.py\u001b[0m in \u001b[0;36m<module>\u001b[1;34m\u001b[0m\n\u001b[0;32m      1\u001b[0m \u001b[1;31m# Accessing object properties after deleting\u001b[0m\u001b[1;33m\u001b[0m\u001b[1;33m\u001b[0m\u001b[0m\n\u001b[1;32m----> 2\u001b[1;33m \u001b[0mprint\u001b[0m\u001b[1;33m(\u001b[0m\u001b[0mobj\u001b[0m\u001b[1;33m.\u001b[0m\u001b[0mname\u001b[0m\u001b[1;33m)\u001b[0m\u001b[1;33m\u001b[0m\u001b[1;33m\u001b[0m\u001b[0m\n\u001b[0m",
      "\u001b[1;31mAttributeError\u001b[0m: 'Fruit' object has no attribute 'name'"
     ]
    }
   ],
   "source": [
    "# Accessing object properties after deleting\n",
    "print(obj.name) "
   ]
  },
  {
   "cell_type": "markdown",
   "id": "f188d5c6",
   "metadata": {},
   "source": [
    "## Data Hiding\n",
    "An object's attributes may or may not be visible outside the class definition. You need to name attributes with a double underscore prefix, and those attributes then will not be directly visible to outsiders."
   ]
  },
  {
   "cell_type": "code",
   "execution_count": 96,
   "id": "29fff710",
   "metadata": {},
   "outputs": [
    {
     "name": "stdout",
     "output_type": "stream",
     "text": [
      "1\n",
      "2\n"
     ]
    },
    {
     "ename": "AttributeError",
     "evalue": "'JustCounter' object has no attribute '__secretCount'",
     "output_type": "error",
     "traceback": [
      "\u001b[1;31m---------------------------------------------------------------------------\u001b[0m",
      "\u001b[1;31mAttributeError\u001b[0m                            Traceback (most recent call last)",
      "\u001b[1;32m~\\AppData\\Local\\Temp/ipykernel_9984/62226997.py\u001b[0m in \u001b[0;36m<module>\u001b[1;34m\u001b[0m\n\u001b[0;32m      9\u001b[0m \u001b[0mcounter\u001b[0m\u001b[1;33m.\u001b[0m\u001b[0mcount\u001b[0m\u001b[1;33m(\u001b[0m\u001b[1;33m)\u001b[0m\u001b[1;33m\u001b[0m\u001b[1;33m\u001b[0m\u001b[0m\n\u001b[0;32m     10\u001b[0m \u001b[0mcounter\u001b[0m\u001b[1;33m.\u001b[0m\u001b[0mcount\u001b[0m\u001b[1;33m(\u001b[0m\u001b[1;33m)\u001b[0m\u001b[1;33m\u001b[0m\u001b[1;33m\u001b[0m\u001b[0m\n\u001b[1;32m---> 11\u001b[1;33m \u001b[0mprint\u001b[0m \u001b[1;33m(\u001b[0m\u001b[0mcounter\u001b[0m\u001b[1;33m.\u001b[0m\u001b[0m__secretCount\u001b[0m\u001b[1;33m)\u001b[0m\u001b[1;33m\u001b[0m\u001b[1;33m\u001b[0m\u001b[0m\n\u001b[0m",
      "\u001b[1;31mAttributeError\u001b[0m: 'JustCounter' object has no attribute '__secretCount'"
     ]
    }
   ],
   "source": [
    "class JustCounter:\n",
    "    __secretCount = 0  # private attribute\n",
    "\n",
    "    def count(self):\n",
    "        self.__secretCount += 1\n",
    "        print (self.__secretCount)\n",
    "\n",
    "counter = JustCounter()\n",
    "counter.count()\n",
    "counter.count()\n",
    "print (counter.__secretCount)"
   ]
  },
  {
   "cell_type": "markdown",
   "id": "31afd925",
   "metadata": {},
   "source": [
    "Python protects those members by internally changing the name to include the class name. You can access such attributes as object._className__attrName. If you would replace your last line as following, then it works for you −"
   ]
  },
  {
   "cell_type": "code",
   "execution_count": 100,
   "id": "53d957bb",
   "metadata": {},
   "outputs": [
    {
     "name": "stdout",
     "output_type": "stream",
     "text": [
      "2\n"
     ]
    }
   ],
   "source": [
    "# print (counter.__secretCount)  # This wont work\n",
    "print (counter._JustCounter__secretCount)"
   ]
  },
  {
   "cell_type": "code",
   "execution_count": 101,
   "id": "6889d855",
   "metadata": {},
   "outputs": [
    {
     "name": "stdout",
     "output_type": "stream",
     "text": [
      "{'a': 5, 'b': 7, 'c': {'d': 8}}\n"
     ]
    }
   ],
   "source": [
    "# convert_dictionary_to_python_object\n",
    "\n",
    "class obj(object):\n",
    "    def __init__(self, d):\n",
    "        for x, y in d.items():\n",
    "            setattr(self, x, obj(y) if isinstance(y, dict) else y)\n",
    "data = {'a':5,'b':7,'c':{'d':8}}\n",
    "ob = obj(data)\n",
    "print(data)"
   ]
  },
  {
   "cell_type": "code",
   "execution_count": null,
   "id": "61350bdf",
   "metadata": {},
   "outputs": [],
   "source": []
  },
  {
   "cell_type": "code",
   "execution_count": null,
   "id": "05ea4447",
   "metadata": {},
   "outputs": [],
   "source": []
  }
 ],
 "metadata": {
  "kernelspec": {
   "display_name": "Python 3 (ipykernel)",
   "language": "python",
   "name": "python3"
  },
  "language_info": {
   "codemirror_mode": {
    "name": "ipython",
    "version": 3
   },
   "file_extension": ".py",
   "mimetype": "text/x-python",
   "name": "python",
   "nbconvert_exporter": "python",
   "pygments_lexer": "ipython3",
   "version": "3.9.7"
  }
 },
 "nbformat": 4,
 "nbformat_minor": 5
}
