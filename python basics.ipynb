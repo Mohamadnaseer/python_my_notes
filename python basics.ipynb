{
 "cells": [
  {
   "cell_type": "markdown",
   "id": "54f7cc3a",
   "metadata": {},
   "source": [
    "# Introduction\n",
    "\n",
    "Python is an interpreted, object-oriented, high-level programming language with dynamic semantics. Its high-level built in data structures, combined with dynamic typing and dynamic binding, make it very attractive for Rapid Application Development, as well as for use as a scripting or glue language to connect existing components together. Python's simple, easy to learn syntax emphasizes readability and therefore reduces the cost of program maintenance. Python supports modules and packages, which encourages program modularity and code reuse. The Python interpreter and the extensive standard library are available in source or binary form without charge for all major platforms, and can be freely distributed."
   ]
  },
  {
   "cell_type": "markdown",
   "id": "0c0292f5",
   "metadata": {},
   "source": [
    "# basics of python\n",
    "\n",
    "Python is a high-level, dynamically typed multiparadigm programming language. Python code is often said to be almost like pseudocode, since it allows you to express very powerful ideas in very few lines of code while being very readable. As an example, here is an implementation of the classic quicksort algorithm in Python:"
   ]
  },
  {
   "cell_type": "markdown",
   "id": "f1654997",
   "metadata": {},
   "source": [
    "# fundamental types\n",
    "\n",
    "## Integers\n",
    "Integer literals are created by any number without a decimal or complex component."
   ]
  },
  {
   "cell_type": "code",
   "execution_count": 1,
   "id": "ead84931",
   "metadata": {},
   "outputs": [
    {
     "name": "stdout",
     "output_type": "stream",
     "text": [
      "Naseer32\n"
     ]
    }
   ],
   "source": [
    "# integers\n",
    "a = 32\n",
    "print(\"Naseer\" + str(a))"
   ]
  },
  {
   "cell_type": "markdown",
   "id": "c2038570",
   "metadata": {},
   "source": [
    "## Floats\n",
    "\n",
    "Float literals can be created by adding a decimal component to a number."
   ]
  },
  {
   "cell_type": "code",
   "execution_count": 2,
   "id": "07824fce",
   "metadata": {},
   "outputs": [
    {
     "data": {
      "text/plain": [
       "int"
      ]
     },
     "execution_count": 2,
     "metadata": {},
     "output_type": "execute_result"
    }
   ],
   "source": [
    "# float\n",
    "x = 1\n",
    "type(x)"
   ]
  },
  {
   "cell_type": "markdown",
   "id": "29b0264f",
   "metadata": {},
   "source": [
    "## Boolean\n",
    "\n",
    "Boolean can be defined by typing True/False without quotes"
   ]
  },
  {
   "cell_type": "code",
   "execution_count": 3,
   "id": "b5da7cce",
   "metadata": {},
   "outputs": [
    {
     "data": {
      "text/plain": [
       "bool"
      ]
     },
     "execution_count": 3,
     "metadata": {},
     "output_type": "execute_result"
    }
   ],
   "source": [
    "# boolean\n",
    "b1 = True\n",
    "b2 = False\n",
    "\n",
    "type(b1)"
   ]
  },
  {
   "cell_type": "markdown",
   "id": "a7471ac1",
   "metadata": {},
   "source": [
    "## Strings\n",
    "\n",
    "String literals can be defined with any of single quotes ('), double quotes (\") or triple quotes (''' or \"\"\"). All give the same result with two important differences.\n",
    "\n",
    "If you quote with single quotes, you do not have to escape double quotes and vice-versa.\n",
    "If you quote with triple quotes, your string can span multiple lines."
   ]
  },
  {
   "cell_type": "code",
   "execution_count": 4,
   "id": "c1ceb3c5",
   "metadata": {},
   "outputs": [
    {
     "data": {
      "text/plain": [
       "'your name MOhamad Naseer M'"
      ]
     },
     "execution_count": 4,
     "metadata": {},
     "output_type": "execute_result"
    }
   ],
   "source": [
    "# string\n",
    "name1 = 'your name MOhamad Naseer M'\n",
    "type(name1)\n",
    "name1"
   ]
  },
  {
   "cell_type": "code",
   "execution_count": 5,
   "id": "c598e824",
   "metadata": {},
   "outputs": [
    {
     "name": "stdout",
     "output_type": "stream",
     "text": [
      "the value is: 1000\n"
     ]
    }
   ],
   "source": [
    "#string formatting\n",
    "a=1000\n",
    "print(\"the value is:\",a)"
   ]
  },
  {
   "cell_type": "code",
   "execution_count": 6,
   "id": "6d26c066",
   "metadata": {},
   "outputs": [
    {
     "name": "stdout",
     "output_type": "stream",
     "text": [
      "The first name is MOHAMAD and last name is NASEER\n"
     ]
    }
   ],
   "source": [
    "first_name=\"MOHAMAD\"\n",
    "last_name=\"NASEER\"\n",
    "\n",
    "print(\"The first name is {a} and last name is {b}\".format(b=last_name,a=first_name))"
   ]
  },
  {
   "cell_type": "markdown",
   "id": "05f9ea0e",
   "metadata": {},
   "source": [
    "## Complex\n",
    "\n",
    "Complex literals can be created by using the notation x + yj where x is the real component and y is the imaginary component."
   ]
  },
  {
   "cell_type": "code",
   "execution_count": 7,
   "id": "9cce6fba",
   "metadata": {},
   "outputs": [
    {
     "data": {
      "text/plain": [
       "(1-2j)"
      ]
     },
     "execution_count": 7,
     "metadata": {},
     "output_type": "execute_result"
    }
   ],
   "source": [
    "#complex numbers: note the use of `j` to specify the imaginary part\n",
    "j = 1.0 - 2.0j\n",
    "j"
   ]
  },
  {
   "cell_type": "markdown",
   "id": "a3d1bb6f",
   "metadata": {},
   "source": [
    "# Variable"
   ]
  },
  {
   "cell_type": "markdown",
   "id": "4183b91a",
   "metadata": {},
   "source": [
    " Variables are containers for storing data values.\n",
    "\n",
    "A variable in Python is defined through assignment. There is no concept of declaring a variable outside of that assignment."
   ]
  },
  {
   "cell_type": "code",
   "execution_count": 8,
   "id": "ce1287ee",
   "metadata": {},
   "outputs": [
    {
     "name": "stdout",
     "output_type": "stream",
     "text": [
      "10\n"
     ]
    }
   ],
   "source": [
    "a=10\n",
    "print(a)"
   ]
  },
  {
   "cell_type": "code",
   "execution_count": 9,
   "id": "88ac5d00",
   "metadata": {},
   "outputs": [],
   "source": [
    "b=100"
   ]
  },
  {
   "cell_type": "code",
   "execution_count": 10,
   "id": "1de8ea02",
   "metadata": {},
   "outputs": [
    {
     "name": "stdout",
     "output_type": "stream",
     "text": [
      "100\n"
     ]
    }
   ],
   "source": [
    "print(b)"
   ]
  },
  {
   "cell_type": "markdown",
   "id": "7d42384f",
   "metadata": {},
   "source": [
    "# Data type"
   ]
  },
  {
   "cell_type": "markdown",
   "id": "232f4acf",
   "metadata": {},
   "source": [
    " in programming, data type is an important concept.\n",
    "\n",
    "Variables can store data of different types, and different types can do different things.\n",
    "\n",
    "Python has the following data types built-in by default, in these categories:\n",
    "\n",
    "Text Type:\tstr\n",
    "Numeric Types:\tint, float, complex\n",
    "Sequence Types:\tlist, tuple, range\n",
    "Mapping Type:\tdict\n",
    "Set Types:\tset, frozenset\n",
    "Boolean Type:\tbool\n",
    "Binary Types:\tbytes, bytearray, memoryview\n",
    "None Type:\tNoneType"
   ]
  },
  {
   "cell_type": "markdown",
   "id": "e76251f7",
   "metadata": {},
   "source": [
    "# Casting\n",
    "If you want to specify the data type of a variable, this can be done with casting."
   ]
  },
  {
   "cell_type": "code",
   "execution_count": 11,
   "id": "7633343a",
   "metadata": {},
   "outputs": [
    {
     "data": {
      "text/plain": [
       "150.5"
      ]
     },
     "execution_count": 11,
     "metadata": {},
     "output_type": "execute_result"
    }
   ],
   "source": [
    "a=150.5\n",
    "a"
   ]
  },
  {
   "cell_type": "code",
   "execution_count": 12,
   "id": "7895e655",
   "metadata": {},
   "outputs": [
    {
     "name": "stdout",
     "output_type": "stream",
     "text": [
      "<class 'float'>\n"
     ]
    }
   ],
   "source": [
    "print(type(a))"
   ]
  },
  {
   "cell_type": "code",
   "execution_count": 13,
   "id": "b8f4ce17",
   "metadata": {},
   "outputs": [],
   "source": [
    "x = str(3)    \n",
    "y = int(50)    \n",
    "z = float(30)"
   ]
  },
  {
   "cell_type": "code",
   "execution_count": 14,
   "id": "f7d744fe",
   "metadata": {},
   "outputs": [
    {
     "name": "stdout",
     "output_type": "stream",
     "text": [
      "3\n"
     ]
    }
   ],
   "source": [
    "print(x)"
   ]
  },
  {
   "cell_type": "code",
   "execution_count": 15,
   "id": "d3809baa",
   "metadata": {},
   "outputs": [
    {
     "name": "stdout",
     "output_type": "stream",
     "text": [
      "50\n"
     ]
    }
   ],
   "source": [
    "print(y)"
   ]
  },
  {
   "cell_type": "code",
   "execution_count": 16,
   "id": "20ec98c0",
   "metadata": {},
   "outputs": [
    {
     "name": "stdout",
     "output_type": "stream",
     "text": [
      "30.0\n"
     ]
    }
   ],
   "source": [
    "print(z)"
   ]
  },
  {
   "cell_type": "markdown",
   "id": "e433905a",
   "metadata": {},
   "source": [
    "# Get the Type\n",
    "You can get the data type of a variable with the type() function."
   ]
  },
  {
   "cell_type": "code",
   "execution_count": 17,
   "id": "6927a38b",
   "metadata": {},
   "outputs": [
    {
     "name": "stdout",
     "output_type": "stream",
     "text": [
      "<class 'float'>\n"
     ]
    }
   ],
   "source": [
    "print(type(a))"
   ]
  },
  {
   "cell_type": "code",
   "execution_count": 18,
   "id": "1a9d2650",
   "metadata": {},
   "outputs": [
    {
     "name": "stdout",
     "output_type": "stream",
     "text": [
      "5.6\n"
     ]
    }
   ],
   "source": [
    "b=5.6\n",
    "print(b)"
   ]
  },
  {
   "cell_type": "code",
   "execution_count": 19,
   "id": "ebdc4018",
   "metadata": {},
   "outputs": [
    {
     "name": "stdout",
     "output_type": "stream",
     "text": [
      "<class 'float'>\n"
     ]
    }
   ],
   "source": [
    "print(type(b))"
   ]
  },
  {
   "cell_type": "code",
   "execution_count": 20,
   "id": "d631a3a7",
   "metadata": {},
   "outputs": [],
   "source": [
    "c=\"naseer\""
   ]
  },
  {
   "cell_type": "code",
   "execution_count": 21,
   "id": "c3070ec7",
   "metadata": {},
   "outputs": [
    {
     "name": "stdout",
     "output_type": "stream",
     "text": [
      "<class 'str'>\n"
     ]
    }
   ],
   "source": [
    "print(type(c))"
   ]
  },
  {
   "cell_type": "code",
   "execution_count": 22,
   "id": "66e99163",
   "metadata": {},
   "outputs": [],
   "source": [
    "d=6j"
   ]
  },
  {
   "cell_type": "code",
   "execution_count": 23,
   "id": "e1c43da8",
   "metadata": {},
   "outputs": [
    {
     "name": "stdout",
     "output_type": "stream",
     "text": [
      "<class 'complex'>\n"
     ]
    }
   ],
   "source": [
    "print(type(d))"
   ]
  },
  {
   "cell_type": "markdown",
   "id": "338b9215",
   "metadata": {},
   "source": [
    "# Boolean Values\n",
    "In programming you often need to know if an expression is True or False.\n",
    "\n",
    "You can evaluate any expression in Python, and get one of two answers, True or False."
   ]
  },
  {
   "cell_type": "code",
   "execution_count": 24,
   "id": "b27043fc",
   "metadata": {},
   "outputs": [],
   "source": [
    "##Boolean\n",
    "a=True\n",
    "b=False"
   ]
  },
  {
   "cell_type": "code",
   "execution_count": 25,
   "id": "1ccb146e",
   "metadata": {},
   "outputs": [
    {
     "data": {
      "text/plain": [
       "bool"
      ]
     },
     "execution_count": 25,
     "metadata": {},
     "output_type": "execute_result"
    }
   ],
   "source": [
    "type(a)"
   ]
  },
  {
   "cell_type": "code",
   "execution_count": 26,
   "id": "d706cda3",
   "metadata": {},
   "outputs": [
    {
     "data": {
      "text/plain": [
       "True"
      ]
     },
     "execution_count": 26,
     "metadata": {},
     "output_type": "execute_result"
    }
   ],
   "source": [
    "a|b"
   ]
  },
  {
   "cell_type": "code",
   "execution_count": 27,
   "id": "ddfa4f8d",
   "metadata": {},
   "outputs": [
    {
     "name": "stdout",
     "output_type": "stream",
     "text": [
      "False\n"
     ]
    }
   ],
   "source": [
    "print(100<55)"
   ]
  },
  {
   "cell_type": "code",
   "execution_count": 28,
   "id": "032f42f9",
   "metadata": {},
   "outputs": [
    {
     "name": "stdout",
     "output_type": "stream",
     "text": [
      "True\n"
     ]
    }
   ],
   "source": [
    "print(100>55)"
   ]
  },
  {
   "cell_type": "code",
   "execution_count": 29,
   "id": "103ba4fc",
   "metadata": {},
   "outputs": [
    {
     "name": "stdout",
     "output_type": "stream",
     "text": [
      "False\n"
     ]
    }
   ],
   "source": [
    "print(100==55)"
   ]
  },
  {
   "cell_type": "markdown",
   "id": "f6eebba3",
   "metadata": {},
   "source": [
    "# Python Conditions and If statements\n",
    "Python supports the usual logical conditions from mathematics:\n",
    "\n",
    "Equals: a == b\n",
    "\n",
    "Not Equals: a != b\n",
    "\n",
    "Less than: a < b\n",
    "\n",
    "Less than or equal to: a <= b\n",
    "\n",
    "Greater than: a > b\n",
    "\n",
    "Greater than or equal to: a >= b\n",
    "\n",
    "These conditions can be used in several ways, most commonly in \"if statements\" and loops.\n",
    "\n",
    "An \"if statement\" is written by using the if keyword."
   ]
  },
  {
   "cell_type": "code",
   "execution_count": 30,
   "id": "84dfe496",
   "metadata": {},
   "outputs": [
    {
     "name": "stdout",
     "output_type": "stream",
     "text": [
      "b is not greater than a\n"
     ]
    }
   ],
   "source": [
    "# example 1\n",
    "a=500\n",
    "b=88\n",
    "if (b>a):\n",
    "        print(\"b is a greater than a\")\n",
    "else:\n",
    "    print(\"b is not greater than a\")"
   ]
  },
  {
   "cell_type": "code",
   "execution_count": 31,
   "id": "adab6eac",
   "metadata": {},
   "outputs": [
    {
     "name": "stdout",
     "output_type": "stream",
     "text": [
      "win\n",
      "india won the world cup\n"
     ]
    }
   ],
   "source": [
    "#example 2\n",
    "india=input(\"\")\n",
    "if(india==\"win\"):\n",
    "    print(\"india won the world cup\")\n",
    "else:\n",
    "    print(\"india loss the world cup\")"
   ]
  },
  {
   "cell_type": "code",
   "execution_count": 32,
   "id": "d9b9930d",
   "metadata": {},
   "outputs": [
    {
     "name": "stdout",
     "output_type": "stream",
     "text": [
      "enter the number A =20\n",
      "enter the number B =50\n",
      "b is a greater than a\n"
     ]
    }
   ],
   "source": [
    "#example 3\n",
    "a=input(\"enter the number A =\")\n",
    "b=input(\"enter the number B =\")\n",
    "if (b>a):\n",
    "        print(\"b is a greater than a\")\n",
    "else:\n",
    "    print(\"b is not greater than a\")\n",
    "    "
   ]
  },
  {
   "cell_type": "code",
   "execution_count": 33,
   "id": "a7a82180",
   "metadata": {},
   "outputs": [
    {
     "name": "stdout",
     "output_type": "stream",
     "text": [
      "enter the mark=50\n",
      "pass\n"
     ]
    }
   ],
   "source": [
    "#get input for variable mark.if mark>35 print pass else print fail\n",
    "mark=int(input(\"enter the mark=\"))\n",
    "if(mark>35):\n",
    "    print(\"pass\")\n",
    "else:\n",
    "    print(\"fail\")"
   ]
  },
  {
   "cell_type": "code",
   "execution_count": 34,
   "id": "4c8dc7e4",
   "metadata": {},
   "outputs": [
    {
     "name": "stdout",
     "output_type": "stream",
     "text": [
      "Enter the numer=30\n",
      " the number divisible by both 2 and 10\n"
     ]
    }
   ],
   "source": [
    "#get input for number and check whether it is divisible by both 2 and 10 or not.if yes the print the number is divisible by 2 and 10 else print the number is not divisible by 2 and 10\n",
    "a=int(input(\"Enter the numer=\"))\n",
    "if (a%2==0 & a%10==0):\n",
    "   print(\" the number divisible by both 2 and 10\")\n",
    "else:\n",
    "   print(\" the number not divisible by both 2 and 10\")"
   ]
  },
  {
   "cell_type": "markdown",
   "id": "313f215e",
   "metadata": {},
   "source": [
    "# Elif\n",
    "The elif keyword is Python's way of saying \"if the previous conditions were not true, then try this condition\"."
   ]
  },
  {
   "cell_type": "code",
   "execution_count": 35,
   "id": "a4a5fed0",
   "metadata": {},
   "outputs": [
    {
     "name": "stdout",
     "output_type": "stream",
     "text": [
      "b is greater than a\n"
     ]
    }
   ],
   "source": [
    "a = 33\n",
    "b = 50\n",
    "if b > a:\n",
    "  print(\"b is greater than a\")\n",
    "elif a == b:\n",
    "  print(\"a and b are equal\")"
   ]
  },
  {
   "cell_type": "code",
   "execution_count": 36,
   "id": "cd3ae48d",
   "metadata": {},
   "outputs": [
    {
     "name": "stdout",
     "output_type": "stream",
     "text": [
      "enter the mark=34\n",
      "fail\n"
     ]
    }
   ],
   "source": [
    "#print the grade of student(elif)\n",
    "mark=int(input(\"enter the mark=\"))\n",
    "if mark>=91 and mark<=100:\n",
    "    print(\"Your Grade is A+\")\n",
    "elif mark>=81 and mark<91:\n",
    "    print(\"Your Grade is A\")\n",
    "elif mark>=71 and mark<81:\n",
    "    print(\"Your Grade is B+\")\n",
    "elif mark>=61 and mark<71:\n",
    "    print(\"Your Grade is B\")\n",
    "elif mark>=51 and mark<61:\n",
    "    print(\"Your Grade is C+\")\n",
    "elif mark>=41 and mark<51:\n",
    "    print(\"Your Grade is C\")\n",
    "elif mark>=34 and mark<41:\n",
    "    print(\"fail\")\n",
    "else:\n",
    "    print(\"Invalid Input!\")\n"
   ]
  },
  {
   "cell_type": "markdown",
   "id": "1f5db229",
   "metadata": {},
   "source": [
    "# for loop\n",
    "A for loop is used for iterating over a sequence (that is either a list, a tuple, a dictionary, a set, or a string). It is used when iterations is unknown\n",
    "\n",
    "This is less like the for keyword in other programming languages, and works more like an iterator method as found in other object-orientated programming languages.\n",
    "\n",
    "With the for loop we can execute a set of statements, once for each item in a list, tuple, set etc."
   ]
  },
  {
   "cell_type": "code",
   "execution_count": 37,
   "id": "fce15cf2",
   "metadata": {},
   "outputs": [
    {
     "name": "stdout",
     "output_type": "stream",
     "text": [
      "1\n",
      "5\n",
      "9\n",
      "13\n"
     ]
    }
   ],
   "source": [
    "for i in range(1,15,4):\n",
    "    print(i)"
   ]
  },
  {
   "cell_type": "code",
   "execution_count": 38,
   "id": "d5503d3c",
   "metadata": {},
   "outputs": [
    {
     "name": "stdout",
     "output_type": "stream",
     "text": [
      "naseer\n",
      "naseer\n",
      "naseer\n",
      "naseer\n",
      "naseer\n"
     ]
    }
   ],
   "source": [
    "for i in range(5):\n",
    "    print(\"naseer\")\n"
   ]
  },
  {
   "cell_type": "code",
   "execution_count": 39,
   "id": "7932fa5d",
   "metadata": {},
   "outputs": [
    {
     "name": "stdout",
     "output_type": "stream",
     "text": [
      "1 *3= 3\n",
      "2 *3= 6\n",
      "3 *3= 9\n",
      "4 *3= 12\n",
      "5 *3= 15\n",
      "6 *3= 18\n",
      "7 *3= 21\n",
      "8 *3= 24\n",
      "9 *3= 27\n",
      "10 *3= 30\n",
      "11 *3= 33\n",
      "12 *3= 36\n",
      "13 *3= 39\n",
      "14 *3= 42\n",
      "15 *3= 45\n",
      "16 *3= 48\n",
      "17 *3= 51\n",
      "18 *3= 54\n",
      "19 *3= 57\n",
      "20 *3= 60\n"
     ]
    }
   ],
   "source": [
    "#print tables using for loop\n",
    "for i in range(1,21):\n",
    "    print(i,\"*3=\",i*3)"
   ]
  },
  {
   "cell_type": "code",
   "execution_count": 40,
   "id": "55d466f1",
   "metadata": {},
   "outputs": [
    {
     "name": "stdout",
     "output_type": "stream",
     "text": [
      "2\n",
      "4\n",
      "6\n",
      "8\n",
      "10\n",
      "12\n",
      "14\n",
      "16\n",
      "18\n"
     ]
    }
   ],
   "source": [
    "#get even number between 1 to 20 in list\n",
    "for a in range(1,20):\n",
    "    if(a%2==0):\n",
    "        print(a)\n",
    "    "
   ]
  },
  {
   "cell_type": "code",
   "execution_count": 41,
   "id": "cbf4690f",
   "metadata": {},
   "outputs": [
    {
     "name": "stdout",
     "output_type": "stream",
     "text": [
      "49\n",
      "50\n"
     ]
    }
   ],
   "source": [
    "#print count of odd and even number\n",
    "even=0\n",
    "odd=0\n",
    "for i in range(1,100):\n",
    "    if(i%2==0):\n",
    "        even=even+1\n",
    "    else:\n",
    "        odd=odd+1\n",
    "print(even)\n",
    "print(odd)"
   ]
  },
  {
   "cell_type": "code",
   "execution_count": 42,
   "id": "864a3164",
   "metadata": {},
   "outputs": [
    {
     "name": "stdout",
     "output_type": "stream",
     "text": [
      "enter any ten number:\n",
      "enter the number1=20\n",
      "[20]\n",
      "enter the number2=31\n",
      "[20, 31]\n",
      "enter the number3=20\n",
      "[20, 31, 20]\n",
      "enter the number4=50\n",
      "[20, 31, 20, 50]\n",
      "enter the number5=13\n",
      "[20, 31, 20, 50, 13]\n",
      "enter the number6=50\n",
      "[20, 31, 20, 50, 13, 50]\n",
      "enter the number7=50\n",
      "[20, 31, 20, 50, 13, 50, 50]\n",
      "enter the number8=10\n",
      "[20, 31, 20, 50, 13, 50, 50, 10]\n",
      "enter the number9=30\n",
      "[20, 31, 20, 50, 13, 50, 50, 10, 30]\n",
      "enter the number10=50\n",
      "[20, 31, 20, 50, 13, 50, 50, 10, 30, 50]\n",
      "the sum= 20\n",
      "the average= 2.0\n",
      "the sum= 51\n",
      "the average= 5.1\n",
      "the sum= 71\n",
      "the average= 7.1\n",
      "the sum= 121\n",
      "the average= 12.1\n",
      "the sum= 134\n",
      "the average= 13.4\n",
      "the sum= 184\n",
      "the average= 18.4\n",
      "the sum= 234\n",
      "the average= 23.4\n",
      "the sum= 244\n",
      "the average= 24.4\n",
      "the sum= 274\n",
      "the average= 27.4\n",
      "the sum= 324\n",
      "the average= 32.4\n"
     ]
    }
   ],
   "source": [
    "#to display 10 number from the user and find their sum & average \n",
    "a=[]\n",
    "print(\"enter any ten number:\")\n",
    "for i in range(10):\n",
    "    b=int(input(\"enter the number\"+str(i+1)+\"=\"))\n",
    "    a.append(b)\n",
    "    print(a)\n",
    "sum=0\n",
    "for i in a:\n",
    "    sum=sum+i\n",
    "    print(\"the sum=\",sum)\n",
    "#The len() function returns the number of items in an list.When the object is a string, the len() function returns the number of characters in the string.\n",
    "    avg=sum/len(a)\n",
    "    print(\"the average=\",avg)\n"
   ]
  },
  {
   "cell_type": "markdown",
   "id": "85bad2cd",
   "metadata": {},
   "source": [
    "# nested for loop\n",
    "A nested loop is a loop inside a loop.\n",
    "\n",
    "The \"inner loop\" will be executed one time for each iteration of the \"outer loop\":"
   ]
  },
  {
   "cell_type": "code",
   "execution_count": 43,
   "id": "fdd427ed",
   "metadata": {},
   "outputs": [
    {
     "name": "stdout",
     "output_type": "stream",
     "text": [
      "red apple\n",
      "red banana\n",
      "red cherry\n",
      "big apple\n",
      "big banana\n",
      "big cherry\n",
      "tasty apple\n",
      "tasty banana\n",
      "tasty cherry\n"
     ]
    }
   ],
   "source": [
    "adj = [\"red\", \"big\", \"tasty\"]\n",
    "fruits = [\"apple\", \"banana\", \"cherry\"]\n",
    "for x in adj:\n",
    "  for y in fruits:\n",
    "    print(x, y)\n"
   ]
  },
  {
   "cell_type": "code",
   "execution_count": 44,
   "id": "b209265d",
   "metadata": {},
   "outputs": [
    {
     "name": "stdout",
     "output_type": "stream",
     "text": [
      "week: 1\n",
      "days: 1\n",
      "days: 2\n",
      "days: 3\n",
      "days: 4\n",
      "days: 5\n",
      "days: 6\n",
      "days: 7\n"
     ]
    }
   ],
   "source": [
    "for i in range(1,2):\n",
    "    print(\"week:\",i)\n",
    "    for j in range(1,8):\n",
    "        print(\"days:\",j)\n"
   ]
  },
  {
   "cell_type": "code",
   "execution_count": 45,
   "id": "f28a88ab",
   "metadata": {},
   "outputs": [
    {
     "name": "stdout",
     "output_type": "stream",
     "text": [
      "\n",
      "1\n",
      "12\n",
      "123\n",
      "1234\n",
      "12345\n",
      "123456\n",
      "1234567\n",
      "12345678\n",
      "123456789"
     ]
    }
   ],
   "source": [
    "for i in range(1,10):\n",
    "    print()\n",
    "    for j in range(1,i+1):\n",
    "        print(j,end=\"\")"
   ]
  },
  {
   "cell_type": "markdown",
   "id": "b3b99602",
   "metadata": {},
   "source": [
    "# while loop\n",
    "With the while loop we can execute a set of statements as long as a condition is true.It is used when iterations is unknown"
   ]
  },
  {
   "cell_type": "code",
   "execution_count": 46,
   "id": "b5200907",
   "metadata": {},
   "outputs": [
    {
     "name": "stdout",
     "output_type": "stream",
     "text": [
      "1\n",
      "2\n",
      "3\n",
      "4\n",
      "5\n",
      "6\n",
      "7\n",
      "8\n",
      "9\n",
      "10\n"
     ]
    }
   ],
   "source": [
    "#print a number 1 to 10 using while loop\n",
    "i=1\n",
    "while (i<=10):\n",
    "    print(i)\n",
    "    i=i+1\n",
    "   "
   ]
  },
  {
   "cell_type": "code",
   "execution_count": 47,
   "id": "74892fad",
   "metadata": {},
   "outputs": [
    {
     "name": "stdout",
     "output_type": "stream",
     "text": [
      "10\n",
      "9\n",
      "8\n",
      "7\n",
      "6\n",
      "5\n",
      "4\n",
      "3\n",
      "2\n",
      "1\n"
     ]
    }
   ],
   "source": [
    "#print first 10 natural number in reverse order\n",
    "i=10\n",
    "while (i>0):\n",
    "    print(i)\n",
    "    i=i-1"
   ]
  },
  {
   "cell_type": "code",
   "execution_count": 48,
   "id": "21310503",
   "metadata": {},
   "outputs": [
    {
     "name": "stdout",
     "output_type": "stream",
     "text": [
      "Enter the Number: \n",
      "25\n",
      "\n",
      "Factorial = 15511210043330985984000000\n"
     ]
    }
   ],
   "source": [
    "#find the factorial of the number using while loop\n",
    "print(\"Enter the Number: \")\n",
    "num = int(input())\n",
    "\n",
    "fact = 1\n",
    "i=1\n",
    "while i<=num:\n",
    "    fact = fact*i\n",
    "    i = i+1\n",
    "\n",
    "print(\"\\nFactorial =\", fact)"
   ]
  },
  {
   "cell_type": "code",
   "execution_count": 49,
   "id": "4de8a4f2",
   "metadata": {},
   "outputs": [
    {
     "name": "stdout",
     "output_type": "stream",
     "text": [
      "Enter n: 2\n",
      "The sum is 3\n"
     ]
    }
   ],
   "source": [
    "# Program to add natural\n",
    "# numbers upto \n",
    "# sum = 1+2+3+...+n\n",
    "\n",
    "# To take input from the user,\n",
    "n = int(input(\"Enter n: \"))\n",
    "\n",
    "\n",
    "# initialize sum and counter\n",
    "sum = 0\n",
    "i = 1\n",
    "\n",
    "while i <= n:\n",
    "    sum = sum + i\n",
    "    i = i+1    # update counter\n",
    "\n",
    "# print the sum\n",
    "print(\"The sum is\", sum)"
   ]
  },
  {
   "cell_type": "code",
   "execution_count": 52,
   "id": "bd223b0b",
   "metadata": {},
   "outputs": [
    {
     "name": "stdout",
     "output_type": "stream",
     "text": [
      "1\n",
      "2\n",
      "3\n"
     ]
    }
   ],
   "source": [
    "#break\n",
    "x=1\n",
    "while(x<7):\n",
    "    \n",
    "    if x==4:\n",
    "        break\n",
    "    print(x)\n",
    "    x=x+1"
   ]
  },
  {
   "cell_type": "code",
   "execution_count": 53,
   "id": "adfff4b5",
   "metadata": {},
   "outputs": [
    {
     "name": "stdout",
     "output_type": "stream",
     "text": [
      "1\n",
      "2\n",
      "3\n",
      "5\n",
      "6\n",
      "7\n"
     ]
    }
   ],
   "source": [
    "# continue\n",
    "x=0\n",
    "while x<7:\n",
    "    x=x+1\n",
    "    if x==4:\n",
    "        continue\n",
    "    print(x)\n",
    "    "
   ]
  },
  {
   "cell_type": "markdown",
   "id": "8dd40cb1",
   "metadata": {},
   "source": [
    "# Python Operators\n",
    "\n",
    "Logical\n",
    "\n",
    "Equality\n",
    "\n",
    "Comparision\n",
    "\n",
    "Arithmetic"
   ]
  },
  {
   "cell_type": "markdown",
   "id": "5f46ccbb",
   "metadata": {},
   "source": [
    "## Logical Operators\n",
    "In python following keywords are used for boolean operations -\n",
    "\n",
    "\n",
    "not - unary negation\n",
    "\n",
    "and\t- conditional AND\n",
    "\n",
    "or\t- conditional OR"
   ]
  },
  {
   "cell_type": "code",
   "execution_count": 56,
   "id": "385de9a8",
   "metadata": {},
   "outputs": [],
   "source": [
    "a=True\n",
    "b=False"
   ]
  },
  {
   "cell_type": "code",
   "execution_count": 58,
   "id": "090642ee",
   "metadata": {},
   "outputs": [
    {
     "data": {
      "text/plain": [
       "False"
      ]
     },
     "execution_count": 58,
     "metadata": {},
     "output_type": "execute_result"
    }
   ],
   "source": [
    "a and b"
   ]
  },
  {
   "cell_type": "code",
   "execution_count": 59,
   "id": "d955ebe0",
   "metadata": {},
   "outputs": [
    {
     "data": {
      "text/plain": [
       "True"
      ]
     },
     "execution_count": 59,
     "metadata": {},
     "output_type": "execute_result"
    }
   ],
   "source": [
    "a or b"
   ]
  },
  {
   "cell_type": "code",
   "execution_count": 60,
   "id": "b3229334",
   "metadata": {},
   "outputs": [
    {
     "data": {
      "text/plain": [
       "True"
      ]
     },
     "execution_count": 60,
     "metadata": {},
     "output_type": "execute_result"
    }
   ],
   "source": [
    "not b"
   ]
  },
  {
   "cell_type": "code",
   "execution_count": 61,
   "id": "478b25ec",
   "metadata": {},
   "outputs": [
    {
     "data": {
      "text/plain": [
       "False"
      ]
     },
     "execution_count": 61,
     "metadata": {},
     "output_type": "execute_result"
    }
   ],
   "source": [
    "not a"
   ]
  },
  {
   "cell_type": "code",
   "execution_count": 64,
   "id": "6e4dc73a",
   "metadata": {},
   "outputs": [
    {
     "name": "stdout",
     "output_type": "stream",
     "text": [
      "Enter the age:16\n",
      "Successful execution\n"
     ]
    }
   ],
   "source": [
    "age=int(input(\"Enter the age:\"))\n",
    "if age<18 or age>=35:\n",
    "    print(\"Successful execution\")"
   ]
  },
  {
   "cell_type": "markdown",
   "id": "bdcab92f",
   "metadata": {},
   "source": [
    "# Equality Operators\n",
    "Following operations are present in python for equlity check operation-\n",
    "\n",
    "\n",
    "is - *a is b* returns true if variable/identifiers a and b points to the same object\n",
    "\n",
    "is not - *a is not b* returns true if variable/identifiers a and b points to the different object\n",
    "\n",
    "== - *a == b* returns true if variable/identifiers a and b has same value\n",
    "\n",
    "!= - *a != b* returns true if variable/identifiers a and b has different value"
   ]
  },
  {
   "cell_type": "code",
   "execution_count": 65,
   "id": "0bb8b75b",
   "metadata": {},
   "outputs": [],
   "source": [
    "a=\"mohamad\"\n",
    "b=\"naseer\"\n"
   ]
  },
  {
   "cell_type": "code",
   "execution_count": 66,
   "id": "dcdc10ae",
   "metadata": {},
   "outputs": [
    {
     "data": {
      "text/plain": [
       "False"
      ]
     },
     "execution_count": 66,
     "metadata": {},
     "output_type": "execute_result"
    }
   ],
   "source": [
    "a==b"
   ]
  },
  {
   "cell_type": "code",
   "execution_count": 71,
   "id": "ca16e014",
   "metadata": {},
   "outputs": [
    {
     "data": {
      "text/plain": [
       "True"
      ]
     },
     "execution_count": 71,
     "metadata": {},
     "output_type": "execute_result"
    }
   ],
   "source": [
    "a is not b"
   ]
  },
  {
   "cell_type": "code",
   "execution_count": 72,
   "id": "9774ff9f",
   "metadata": {},
   "outputs": [
    {
     "data": {
      "text/plain": [
       "True"
      ]
     },
     "execution_count": 72,
     "metadata": {},
     "output_type": "execute_result"
    }
   ],
   "source": [
    "a is a"
   ]
  },
  {
   "cell_type": "code",
   "execution_count": 73,
   "id": "03e48359",
   "metadata": {},
   "outputs": [
    {
     "data": {
      "text/plain": [
       "True"
      ]
     },
     "execution_count": 73,
     "metadata": {},
     "output_type": "execute_result"
    }
   ],
   "source": [
    "a != b"
   ]
  },
  {
   "cell_type": "code",
   "execution_count": 76,
   "id": "456f5828",
   "metadata": {},
   "outputs": [
    {
     "name": "stdout",
     "output_type": "stream",
     "text": [
      "Enter the age:18\n",
      "You are in the teenager age\n"
     ]
    }
   ],
   "source": [
    "age=int(input(\"Enter the age:\"))\n",
    "\n",
    "if age==18:\n",
    "    print(\"You are in the teenager age\")\n",
    "else:\n",
    "    print(\"you are not in teenager age\")"
   ]
  },
  {
   "cell_type": "code",
   "execution_count": 79,
   "id": "ba5a804d",
   "metadata": {},
   "outputs": [
    {
     "name": "stdout",
     "output_type": "stream",
     "text": [
      "2489620860720\n",
      "2489619843312\n"
     ]
    }
   ],
   "source": [
    "a=\"mohamad\"\n",
    "b=\"naseer\"\n",
    "print(id(a))\n",
    "print(id(b))"
   ]
  },
  {
   "cell_type": "code",
   "execution_count": 80,
   "id": "46153338",
   "metadata": {},
   "outputs": [
    {
     "data": {
      "text/plain": [
       "False"
      ]
     },
     "execution_count": 80,
     "metadata": {},
     "output_type": "execute_result"
    }
   ],
   "source": [
    "a is b"
   ]
  },
  {
   "cell_type": "code",
   "execution_count": 82,
   "id": "09f312e1",
   "metadata": {},
   "outputs": [
    {
     "name": "stdout",
     "output_type": "stream",
     "text": [
      "2489620411328\n",
      "2489620100736\n"
     ]
    }
   ],
   "source": [
    "a1=[1,2,3]\n",
    "a2=[1,2,3]\n",
    "print(id(a1))\n",
    "print(id(a2))"
   ]
  },
  {
   "cell_type": "code",
   "execution_count": 83,
   "id": "25bb436c",
   "metadata": {},
   "outputs": [
    {
     "data": {
      "text/plain": [
       "False"
      ]
     },
     "execution_count": 83,
     "metadata": {},
     "output_type": "execute_result"
    }
   ],
   "source": [
    "a1 is a2"
   ]
  },
  {
   "cell_type": "code",
   "execution_count": 85,
   "id": "6d0096d1",
   "metadata": {},
   "outputs": [
    {
     "data": {
      "text/plain": [
       "True"
      ]
     },
     "execution_count": 85,
     "metadata": {},
     "output_type": "execute_result"
    }
   ],
   "source": [
    "a1 is not a2"
   ]
  },
  {
   "cell_type": "markdown",
   "id": "9db1b056",
   "metadata": {},
   "source": [
    "# comparison operators\n",
    "\n",
    "less than - <\n",
    "\n",
    "less than or equal to - <=\n",
    "\n",
    "greater than - >\n",
    "\n",
    "greater than or equal to - >="
   ]
  },
  {
   "cell_type": "code",
   "execution_count": 88,
   "id": "6e3d51ca",
   "metadata": {},
   "outputs": [
    {
     "name": "stdout",
     "output_type": "stream",
     "text": [
      "Enter the marks:34\n",
      "Fail\n"
     ]
    }
   ],
   "source": [
    "marks= float(input(\"Enter the marks:\"))\n",
    "\n",
    "if marks>=35:\n",
    "    print(\"Pass\")\n",
    "    if marks>=50 and marks<=70:\n",
    "        print(\"First\")\n",
    "elif marks<35:\n",
    "    print(\"Fail\")"
   ]
  },
  {
   "cell_type": "markdown",
   "id": "ed874676",
   "metadata": {},
   "source": [
    "# Arithmetic Operators \n",
    "\n",
    "(+) - addition\n",
    "\n",
    "(-) - subtraction\n",
    "\n",
    "(*****) - multiplication\n",
    "\n",
    "(/) - true division\n",
    "\n",
    "(//) - integer division\n",
    "\n",
    "(%) - the modulo operator"
   ]
  },
  {
   "cell_type": "code",
   "execution_count": 89,
   "id": "3442cee0",
   "metadata": {},
   "outputs": [
    {
     "data": {
      "text/plain": [
       "70"
      ]
     },
     "execution_count": 89,
     "metadata": {},
     "output_type": "execute_result"
    }
   ],
   "source": [
    "50+20"
   ]
  },
  {
   "cell_type": "code",
   "execution_count": 90,
   "id": "795e7fb9",
   "metadata": {},
   "outputs": [
    {
     "data": {
      "text/plain": [
       "32"
      ]
     },
     "execution_count": 90,
     "metadata": {},
     "output_type": "execute_result"
    }
   ],
   "source": [
    "52-20"
   ]
  },
  {
   "cell_type": "code",
   "execution_count": 91,
   "id": "a60bce97",
   "metadata": {},
   "outputs": [
    {
     "data": {
      "text/plain": [
       "1152"
      ]
     },
     "execution_count": 91,
     "metadata": {},
     "output_type": "execute_result"
    }
   ],
   "source": [
    "48*24"
   ]
  },
  {
   "cell_type": "code",
   "execution_count": 92,
   "id": "e362ae1b",
   "metadata": {},
   "outputs": [
    {
     "data": {
      "text/plain": [
       "2.5"
      ]
     },
     "execution_count": 92,
     "metadata": {},
     "output_type": "execute_result"
    }
   ],
   "source": [
    "5/2"
   ]
  },
  {
   "cell_type": "code",
   "execution_count": 93,
   "id": "3b779b75",
   "metadata": {},
   "outputs": [
    {
     "data": {
      "text/plain": [
       "10"
      ]
     },
     "execution_count": 93,
     "metadata": {},
     "output_type": "execute_result"
    }
   ],
   "source": [
    "50//5"
   ]
  },
  {
   "cell_type": "code",
   "execution_count": 96,
   "id": "b99a3f51",
   "metadata": {},
   "outputs": [
    {
     "data": {
      "text/plain": [
       "3"
      ]
     },
     "execution_count": 96,
     "metadata": {},
     "output_type": "execute_result"
    }
   ],
   "source": [
    "48%5"
   ]
  },
  {
   "cell_type": "code",
   "execution_count": null,
   "id": "94bac733",
   "metadata": {},
   "outputs": [],
   "source": []
  }
 ],
 "metadata": {
  "kernelspec": {
   "display_name": "Python 3 (ipykernel)",
   "language": "python",
   "name": "python3"
  },
  "language_info": {
   "codemirror_mode": {
    "name": "ipython",
    "version": 3
   },
   "file_extension": ".py",
   "mimetype": "text/x-python",
   "name": "python",
   "nbconvert_exporter": "python",
   "pygments_lexer": "ipython3",
   "version": "3.9.7"
  }
 },
 "nbformat": 4,
 "nbformat_minor": 5
}
