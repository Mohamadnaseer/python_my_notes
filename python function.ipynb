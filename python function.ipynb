{
 "cells": [
  {
   "cell_type": "markdown",
   "id": "aa4ed24f",
   "metadata": {},
   "source": [
    "# Functions\n",
    "\n",
    "## Introduction to Functions\n",
    "\n",
    "What is a function in Python and how to create a function? \n",
    "\n",
    "Functions will be one of our main building blocks when we construct larger and larger amount of code to solve problems.\n",
    "\n",
    "**So what is a function?**\n",
    "\n",
    "A function groups a set of statements together to run the statements more than once. It allows us to specify parameters that can serve as inputs to the functions.\n",
    "\n",
    "Functions allow us to reuse the code instead of writing the code again and again. If you recall strings and lists, remember that len() function is used to find the length of a string. Since checking the length of a sequence is a common task, you would want to write a function that can do this repeatedly at command.\n",
    "\n",
    "Function is one of the most basic levels of reusing code in Python, and it will also allow us to start thinking of program design."
   ]
  },
  {
   "cell_type": "markdown",
   "id": "bbc5fd5f",
   "metadata": {},
   "source": [
    "# def Statements\n",
    "\n",
    "Now, let us learn how to build a function and what is the syntax in Python.\n",
    "\n",
    "The syntax for def statements will be in the following form:"
   ]
  },
  {
   "cell_type": "markdown",
   "id": "6012b274",
   "metadata": {},
   "source": [
    "# How to call a function in python?\n",
    "Once we have defined a function, we can call it from another function, program or even the Python prompt. To call a function we simply type the function name with appropriate parameters.\n",
    "\n",
    "\n",
    "\n"
   ]
  },
  {
   "cell_type": "code",
   "execution_count": 1,
   "id": "5a7e13fd",
   "metadata": {},
   "outputs": [
    {
     "name": "stdout",
     "output_type": "stream",
     "text": [
      "I know coding \n"
     ]
    }
   ],
   "source": [
    "def function():\n",
    "    print(\"I know coding \") #call to function()\n",
    "    \n",
    "#calling function\n",
    "function()\n",
    "#returning from function"
   ]
  },
  {
   "cell_type": "code",
   "execution_count": 2,
   "id": "fa0c4636",
   "metadata": {},
   "outputs": [
    {
     "data": {
      "text/plain": [
       "7"
      ]
     },
     "execution_count": 2,
     "metadata": {},
     "output_type": "execute_result"
    }
   ],
   "source": [
    "def add(num1,num2):\n",
    "    return num1+num2\n",
    "add(2,5)"
   ]
  },
  {
   "cell_type": "code",
   "execution_count": 10,
   "id": "7ba6fd05",
   "metadata": {},
   "outputs": [
    {
     "name": "stdout",
     "output_type": "stream",
     "text": [
      "enter the number 1=52\n",
      "enter the number 2=62\n",
      "114\n"
     ]
    }
   ],
   "source": [
    "def add ():\n",
    "    num1=int(input(\"enter the number 1=\"))\n",
    "    num2=int(input(\"enter the number 2=\"))\n",
    "    total=num1+num2\n",
    "    print(total)\n",
    "\n",
    "add()\n"
   ]
  },
  {
   "cell_type": "code",
   "execution_count": 46,
   "id": "576279b3",
   "metadata": {},
   "outputs": [
    {
     "name": "stdout",
     "output_type": "stream",
     "text": [
      "9 is a Odd Number\n"
     ]
    }
   ],
   "source": [
    "def even_odd(n):    \n",
    "    if n % 2 == 0:  \n",
    "        print(n, 'is a Even number')\n",
    "    else:\n",
    "        print(n, 'is a Odd Number')\n",
    "\n",
    "even_odd(9)   "
   ]
  },
  {
   "cell_type": "code",
   "execution_count": 7,
   "id": "aa79735d",
   "metadata": {},
   "outputs": [
    {
     "name": "stdout",
     "output_type": "stream",
     "text": [
      "enter the number 1:82\n",
      "enter the number 2:18\n",
      "100\n",
      "enter the number 1:5\n",
      "enter the number 2:5\n",
      "0\n",
      "enter the number !:84\n",
      "enter the number 2:2\n",
      "168\n",
      "enter the number !:50\n",
      "enter the number 2:2\n",
      "<function div at 0x000002167E630E50>\n"
     ]
    }
   ],
   "source": [
    "def add():\n",
    "    num1=int(input(\"enter the number 1:\"))\n",
    "    num2=int(input(\"enter the number 2:\"))\n",
    "    add=num1+num2\n",
    "    print(add)\n",
    "\n",
    "def sub():\n",
    "    num1=int(input(\"enter the number 1:\"))\n",
    "    num2=int(input(\"enter the number 2:\"))\n",
    "    sub=num1-num2\n",
    "    print(sub)\n",
    "    \n",
    "def mult():\n",
    "    num1=int(input(\"enter the number !:\"))\n",
    "    num2=int(input(\"enter the number 2:\"))\n",
    "    mult=num1*num2\n",
    "    print(mult)\n",
    "    \n",
    "def div():\n",
    "    num1=int(input(\"enter the number !:\"))\n",
    "    num2=int(input(\"enter the number 2:\"))\n",
    "    mult=num1/num2\n",
    "    print(div)\n",
    "    \n",
    "    \n",
    "add()\n",
    "sub()\n",
    "mult()\n",
    "div()"
   ]
  },
  {
   "cell_type": "code",
   "execution_count": 13,
   "id": "6a7330d6",
   "metadata": {},
   "outputs": [
    {
     "name": "stdout",
     "output_type": "stream",
     "text": [
      "enter the first name:Mohamad\n",
      "enter the last name:Naseer\n",
      "Mohamad Naseer\n"
     ]
    }
   ],
   "source": [
    "def generate_full_name():\n",
    "    name1=input(\"enter the first name:\")\n",
    "    name2=input(\"enter the last name:\")\n",
    "    gap=\" \"\n",
    "    full_name=name1+gap+name2\n",
    "    print(full_name)\n",
    "generate_full_name()"
   ]
  },
  {
   "cell_type": "markdown",
   "id": "e5ab1b03",
   "metadata": {},
   "source": [
    "# Single Parameter\n",
    "If our function takes a parameter we should call our function with an argument"
   ]
  },
  {
   "cell_type": "code",
   "execution_count": 17,
   "id": "4dff4003",
   "metadata": {},
   "outputs": [
    {
     "name": "stdout",
     "output_type": "stream",
     "text": [
      "Hello, naseer. Good morning!\n"
     ]
    }
   ],
   "source": [
    "def greet(name):\n",
    "    print(\"Hello, \" + name + \". Good morning!\") \n",
    "#This function greets to the person passed in as a parameter\n",
    "greet(\"naseer\")"
   ]
  },
  {
   "cell_type": "code",
   "execution_count": 19,
   "id": "952565ea",
   "metadata": {},
   "outputs": [
    {
     "name": "stdout",
     "output_type": "stream",
     "text": [
      "enter your name:mohamad naseer\n",
      "hello,mohamad naseer.good morning\n"
     ]
    }
   ],
   "source": [
    "def greet(name):\n",
    "    print(\"hello,\"+name+\".good morning\")\n",
    "name=input(\"enter your name:\")\n",
    "greet(name)"
   ]
  },
  {
   "cell_type": "code",
   "execution_count": 13,
   "id": "2d427706",
   "metadata": {},
   "outputs": [
    {
     "name": "stdout",
     "output_type": "stream",
     "text": [
      "enter the number :50\n",
      "even\n"
     ]
    }
   ],
   "source": [
    "#odd or even\n",
    "def number(num):\n",
    "    if(num%2==0):\n",
    "        print(\"even\")\n",
    "    else:\n",
    "        print(\"odd\")\n",
    "        \n",
    "num=int(input(\"enter the number :\")) \n",
    "number(num)"
   ]
  },
  {
   "cell_type": "markdown",
   "id": "d2e0bf64",
   "metadata": {},
   "source": [
    "# Two Parameter\n",
    "A function may or may not have a parameter or parameters. A function may also have two or more parameters. If our function takes parameters we should call it with arguments."
   ]
  },
  {
   "cell_type": "code",
   "execution_count": 21,
   "id": "60896cdb",
   "metadata": {},
   "outputs": [
    {
     "name": "stdout",
     "output_type": "stream",
     "text": [
      "Enter ur first name:Mohamad\n",
      "Enter ur last name:Naseer\n",
      "hello,Mohamad Naseer.Good morning\n"
     ]
    }
   ],
   "source": [
    "def greet(name1,name2):\n",
    "    print(\"hello,\"+name1+\" \"+name2+\".Good morning\")\n",
    "    \n",
    "name1=input(\"Enter ur first name:\")\n",
    "name2=input(\"Enter ur last name:\")\n",
    "greet(name1,name2)"
   ]
  },
  {
   "cell_type": "code",
   "execution_count": 24,
   "id": "4b30fa80",
   "metadata": {},
   "outputs": [
    {
     "name": "stdout",
     "output_type": "stream",
     "text": [
      "enter the number A =50\n",
      "enter the number B =100\n",
      "150\n"
     ]
    }
   ],
   "source": [
    "def add(a,b):\n",
    "    c=a+b\n",
    "    print(c)\n",
    "\n",
    "a=int(input(\"enter the number A =\"))\n",
    "b=int(input(\"enter the number B =\"))\n",
    "add(a,b)"
   ]
  },
  {
   "cell_type": "code",
   "execution_count": 15,
   "id": "f071cb8d",
   "metadata": {},
   "outputs": [
    {
     "name": "stdout",
     "output_type": "stream",
     "text": [
      "44\n",
      "45\n",
      "46\n",
      "47\n",
      "48\n",
      "49\n"
     ]
    }
   ],
   "source": [
    "def show(a,b):\n",
    "    for i in range(a,b):\n",
    "        print(i)\n",
    "\n",
    "show(44,50)\n"
   ]
  },
  {
   "cell_type": "markdown",
   "id": "fb2eb5d5",
   "metadata": {},
   "source": [
    "# Function return Statement\n",
    "In Python, to return value from the function, a return statement is used. It returns the value of the expression following the returns keyword."
   ]
  },
  {
   "cell_type": "code",
   "execution_count": 19,
   "id": "a986faa3",
   "metadata": {},
   "outputs": [
    {
     "name": "stdout",
     "output_type": "stream",
     "text": [
      "enter the number 1=20\n",
      "enter the number 2=50\n",
      "70\n"
     ]
    }
   ],
   "source": [
    "def add(num1,num2):\n",
    "    return num1+num2\n",
    "\n",
    "num1=int(input(\"enter the number 1=\"))\n",
    "\n",
    "num2=int(input(\"enter the number 2=\"))\n",
    "\n",
    "print(add(num1,num2))"
   ]
  },
  {
   "cell_type": "code",
   "execution_count": 20,
   "id": "2a136199",
   "metadata": {},
   "outputs": [
    {
     "name": "stdout",
     "output_type": "stream",
     "text": [
      "enter first name:mohamad \n",
      "enter last name:naseer\n",
      "mohamad  naseer\n"
     ]
    }
   ],
   "source": [
    "def fullname(a,b):\n",
    "    gap=\" \"\n",
    "    fullname=a + gap + b\n",
    "    return fullname\n",
    "a=input(\"enter first name:\")\n",
    "b=input(\"enter last name:\")\n",
    "c=fullname(a,b)\n",
    "print(c)"
   ]
  },
  {
   "cell_type": "code",
   "execution_count": 29,
   "id": "f32b47b3",
   "metadata": {},
   "outputs": [
    {
     "name": "stdout",
     "output_type": "stream",
     "text": [
      "find even number till:50\n",
      "[0, 2, 4, 6, 8, 10, 12, 14, 16, 18, 20, 22, 24, 26, 28, 30, 32, 34, 36, 38, 40, 42, 44, 46, 48, 50]\n"
     ]
    }
   ],
   "source": [
    "#return list\n",
    "def find_even_numbers(n):\n",
    "    evens = []\n",
    "    for i in range(n + 1):\n",
    "        if i % 2 == 0:\n",
    "            evens.append(i)\n",
    "    return evens\n",
    "a=int(input(\"find even number till:\"))\n",
    "b=find_even_numbers(a)\n",
    "print(b)"
   ]
  },
  {
   "cell_type": "code",
   "execution_count": 39,
   "id": "29630d72",
   "metadata": {},
   "outputs": [
    {
     "name": "stdout",
     "output_type": "stream",
     "text": [
      "enter the number:11\n",
      "False\n"
     ]
    }
   ],
   "source": [
    "#return boolean value\n",
    "def even (n):\n",
    "    if n % 2 == 0:\n",
    "        return True    \n",
    "    return False\n",
    "a=int(input(\"enter the number:\"))\n",
    "b=even(a)\n",
    "print(b) "
   ]
  },
  {
   "cell_type": "markdown",
   "id": "3b03dbe6",
   "metadata": {},
   "source": [
    "# Return Multiple Values\n",
    "You can also return multiple values from a function. Use the return statement by separating each expression by a comma."
   ]
  },
  {
   "cell_type": "code",
   "execution_count": 48,
   "id": "37e25cac",
   "metadata": {},
   "outputs": [
    {
     "name": "stdout",
     "output_type": "stream",
     "text": [
      "('Sum', 15)\n"
     ]
    }
   ],
   "source": [
    "def multiple():\n",
    "    operation = \"Sum\" \n",
    "    total = 5+10\n",
    "    return operation, total;\n",
    "\n",
    "a = multiple()\n",
    "\n",
    "print(a)"
   ]
  },
  {
   "cell_type": "code",
   "execution_count": 54,
   "id": "42973b62",
   "metadata": {},
   "outputs": [
    {
     "name": "stdout",
     "output_type": "stream",
     "text": [
      "enter number1:100\n",
      "enter mumber2:2\n",
      "addition: 102\n",
      "subraction: 98\n",
      "multiplication: 200\n",
      "division 50.0\n"
     ]
    }
   ],
   "source": [
    "def calculate(a,b):\n",
    "    add= a+b\n",
    "    sub=a-b\n",
    "    mult=a*b\n",
    "    div=a/b\n",
    "    return add,sub,mult,div \n",
    "    \n",
    "a=int(input(\"enter number1:\"))\n",
    "b=int(input(\"enter mumber2:\"))\n",
    "c=calculate(a,b)\n",
    "num1,num2,num3,num4 = c\n",
    "\n",
    "print(\"addition:\",num1)\n",
    "print(\"subraction:\",num2)\n",
    "print(\"multiplication:\",num3)\n",
    "print(\"division\",num4)\n",
    "    "
   ]
  },
  {
   "cell_type": "code",
   "execution_count": null,
   "id": "1b562ea1",
   "metadata": {},
   "outputs": [],
   "source": []
  },
  {
   "cell_type": "markdown",
   "id": "161d9bd3",
   "metadata": {},
   "source": [
    "# Function pass Statement\n",
    "In Python, the pass is the keyword, which won’t do anything. Sometimes there is a situation where we need to define a syntactically empty block. We can define that block using the pass keyword.\n",
    "\n",
    "When the interpreter finds a pass statement in the program, it returns no operation."
   ]
  },
  {
   "cell_type": "code",
   "execution_count": 55,
   "id": "f37122f7",
   "metadata": {},
   "outputs": [],
   "source": [
    " def addition(num1, num2):\n",
    "    # Implementation of addition function in comming release\n",
    "    # Pass statement \n",
    "    pass\n",
    "\n",
    "addition(10, 2)"
   ]
  },
  {
   "cell_type": "code",
   "execution_count": null,
   "id": "7881c4c5",
   "metadata": {},
   "outputs": [],
   "source": []
  },
  {
   "cell_type": "code",
   "execution_count": null,
   "id": "5208f931",
   "metadata": {},
   "outputs": [],
   "source": []
  },
  {
   "cell_type": "code",
   "execution_count": 2,
   "id": "ab0f2b5c",
   "metadata": {},
   "outputs": [
    {
     "name": "stdout",
     "output_type": "stream",
     "text": [
      "Welcome allPlease subscribe\n"
     ]
    }
   ],
   "source": [
    "# function\n",
    "\n",
    "def welcome(msg)->str:\n",
    "    \"\"\"\n",
    "    Description: This function will show a welcome message\n",
    "    \n",
    "\n",
    "    Return : This function will return the welcome message \n",
    "    \"\"\"\n",
    "\n",
    "\n",
    "\n",
    "    return msg\n",
    "\n",
    "\n",
    "\n",
    "msg=welcome(\"Welcome all\")\n",
    "print(msg + \"Please subscribe\")\n",
    "\n",
    "\n",
    "\n"
   ]
  },
  {
   "cell_type": "code",
   "execution_count": 3,
   "id": "b51d1684",
   "metadata": {},
   "outputs": [
    {
     "name": "stdout",
     "output_type": "stream",
     "text": [
      "88 741\n"
     ]
    }
   ],
   "source": [
    "## function to add even and odd number\n",
    "\n",
    "def even_odd_sum(lst):\n",
    "    \"\"\"\n",
    "    Description: This function will add even and odd number in a list\n",
    "    Return : This function will return the sum of even and odd number in a list\n",
    "    \"\"\"\n",
    "\n",
    "    even_sum=0\n",
    "    odd_sum=0\n",
    "    for i in lst:\n",
    "        if i%2==0:\n",
    "            even_sum+=i\n",
    "        else:\n",
    "            odd_sum+=i\n",
    "    return even_sum,odd_sum\n",
    "\n",
    "\n",
    "sum1,sum2=even_odd_sum([1,2,3,45,6,677,7,8,8,54,4,3,5,6])\n",
    "print(sum1,sum2)"
   ]
  },
  {
   "cell_type": "code",
   "execution_count": null,
   "id": "6bd95539",
   "metadata": {},
   "outputs": [],
   "source": []
  }
 ],
 "metadata": {
  "kernelspec": {
   "display_name": "Python 3 (ipykernel)",
   "language": "python",
   "name": "python3"
  },
  "language_info": {
   "codemirror_mode": {
    "name": "ipython",
    "version": 3
   },
   "file_extension": ".py",
   "mimetype": "text/x-python",
   "name": "python",
   "nbconvert_exporter": "python",
   "pygments_lexer": "ipython3",
   "version": "3.9.7"
  }
 },
 "nbformat": 4,
 "nbformat_minor": 5
}
