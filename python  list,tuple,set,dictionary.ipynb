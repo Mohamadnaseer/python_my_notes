{
 "cells": [
  {
   "cell_type": "markdown",
   "id": "b30bbd3d",
   "metadata": {},
   "source": [
    "# List\n",
    "Lists are used to store multiple items in a single variable.\n",
    "\n",
    "Lists are one of 4 built-in data types in Python used to store collections of data, the other 3 are Tuple, Set, and Dictionary, all with different qualities and usage.\n",
    "\n",
    "Lists are created using square brackets:"
   ]
  },
  {
   "cell_type": "code",
   "execution_count": 1,
   "id": "a993a917",
   "metadata": {},
   "outputs": [],
   "source": [
    "list=[1,2,3,4,6,6,3]"
   ]
  },
  {
   "cell_type": "code",
   "execution_count": 2,
   "id": "5df5d800",
   "metadata": {},
   "outputs": [
    {
     "name": "stdout",
     "output_type": "stream",
     "text": [
      "[1, 2, 3, 4, 6, 6, 3]\n"
     ]
    }
   ],
   "source": [
    "print(list)"
   ]
  },
  {
   "cell_type": "markdown",
   "id": "58f2a506",
   "metadata": {},
   "source": [
    "# Change a Range of Item Values\n",
    "To change the value of items within a specific range, define a list with the new values, and refer to the range of index numbers where you want to insert the new values:"
   ]
  },
  {
   "cell_type": "code",
   "execution_count": 3,
   "id": "8fa3d01d",
   "metadata": {},
   "outputs": [
    {
     "name": "stdout",
     "output_type": "stream",
     "text": [
      "[1, 4, 10, 11, 6, 4]\n"
     ]
    }
   ],
   "source": [
    "list=[1,4,5,7,2,9,6,4]\n",
    "list[2:6]=[10,11]\n",
    "print(list)"
   ]
  },
  {
   "cell_type": "code",
   "execution_count": 7,
   "id": "a9438f7f",
   "metadata": {},
   "outputs": [],
   "source": [
    "#append\n",
    "list.append(111)\n",
    "list.append(\"naseer\")"
   ]
  },
  {
   "cell_type": "code",
   "execution_count": 8,
   "id": "2c38c7e5",
   "metadata": {},
   "outputs": [
    {
     "name": "stdout",
     "output_type": "stream",
     "text": [
      "[1, 4, 10, 11, 6, 4, 111, 111, 111, 'naseer']\n"
     ]
    }
   ],
   "source": [
    "print(list)"
   ]
  },
  {
   "cell_type": "code",
   "execution_count": 9,
   "id": "7a86fac9",
   "metadata": {},
   "outputs": [
    {
     "name": "stdout",
     "output_type": "stream",
     "text": [
      "[888, 1, 4, 10, 11, 6, 4, 111, 111, 111, 'naseer']\n"
     ]
    }
   ],
   "source": [
    "#insert\n",
    "list.insert(0,888)\n",
    "print(list)"
   ]
  },
  {
   "cell_type": "code",
   "execution_count": 10,
   "id": "2e83e5b3",
   "metadata": {},
   "outputs": [
    {
     "name": "stdout",
     "output_type": "stream",
     "text": [
      "[888, 1, 4, 10, 6, 4, 111, 111, 111, 'naseer']\n"
     ]
    }
   ],
   "source": [
    "#remove \n",
    "list.pop(4)\n",
    "print(list)"
   ]
  },
  {
   "cell_type": "code",
   "execution_count": 11,
   "id": "8f01b2ad",
   "metadata": {},
   "outputs": [],
   "source": [
    "#extend\n",
    "list1=[1,2,3,5,6,4,3,40]\n",
    "list2=[10,11,12,13,15]\n",
    "list1.extend(list2)"
   ]
  },
  {
   "cell_type": "code",
   "execution_count": 41,
   "id": "076ecc43",
   "metadata": {},
   "outputs": [
    {
     "name": "stdout",
     "output_type": "stream",
     "text": [
      "[1, 2, 3, 5, 6, 4, 3, 40, 10, 11, 12, 13, 15]\n",
      "<class 'list'>\n"
     ]
    }
   ],
   "source": [
    "print(list1)\n",
    "print(type(list1))"
   ]
  },
  {
   "cell_type": "markdown",
   "id": "6ae0f9d4",
   "metadata": {},
   "source": [
    "# Tuple\n",
    "Tuples are used to store multiple items in a single variable.\n",
    "\n",
    "Tuple is one of 4 built-in data types in Python used to store collections of data, the other 3 are List, Set, and Dictionary, all with different qualities and usage.\n",
    "\n",
    "A tuple is a collection which is ordered and unchangeable.\n",
    "\n",
    "Tuples are written with round brackets.it cannot be modified\n",
    "\n",
    "It denoted in ()"
   ]
  },
  {
   "cell_type": "code",
   "execution_count": 11,
   "id": "d6411448",
   "metadata": {},
   "outputs": [],
   "source": [
    "a=(14,52,68,15,62)\n"
   ]
  },
  {
   "cell_type": "code",
   "execution_count": 12,
   "id": "21b1330c",
   "metadata": {},
   "outputs": [
    {
     "name": "stdout",
     "output_type": "stream",
     "text": [
      "(14, 52, 68, 15, 62)\n",
      "<class 'tuple'>\n"
     ]
    }
   ],
   "source": [
    "print(a)\n",
    "print(type(a))"
   ]
  },
  {
   "cell_type": "code",
   "execution_count": 10,
   "id": "1337aaec",
   "metadata": {},
   "outputs": [
    {
     "name": "stdout",
     "output_type": "stream",
     "text": [
      "(1, 5, 5, 6)\n"
     ]
    }
   ],
   "source": [
    "#casting can be done in tuple\n",
    "#we can convert the tuple to list and we can modify\n",
    "a=(1,5,5,6)\n",
    "b=list(a)\n",
    "print(a)"
   ]
  },
  {
   "cell_type": "code",
   "execution_count": 8,
   "id": "021420de",
   "metadata": {},
   "outputs": [
    {
     "name": "stdout",
     "output_type": "stream",
     "text": [
      "<class 'list'>\n"
     ]
    }
   ],
   "source": [
    "print(type(b))"
   ]
  },
  {
   "cell_type": "code",
   "execution_count": 1,
   "id": "59265094",
   "metadata": {},
   "outputs": [],
   "source": [
    "mytuple=(111,54,664)\n",
    "mylist=list(mytuple)"
   ]
  },
  {
   "cell_type": "code",
   "execution_count": 16,
   "id": "c08df11d",
   "metadata": {},
   "outputs": [
    {
     "name": "stdout",
     "output_type": "stream",
     "text": [
      "[111]\n"
     ]
    }
   ],
   "source": [
    "print(mylist)"
   ]
  },
  {
   "cell_type": "code",
   "execution_count": 3,
   "id": "07047dbc",
   "metadata": {},
   "outputs": [
    {
     "name": "stdout",
     "output_type": "stream",
     "text": [
      "<class 'list'>\n"
     ]
    }
   ],
   "source": [
    "print(type(mylist))"
   ]
  },
  {
   "cell_type": "markdown",
   "id": "25c01c02",
   "metadata": {},
   "source": [
    "# set\n",
    "Sets are used to store multiple items in a single variable.\n",
    "\n",
    "Set is one of 4 built-in data types in Python used to store collections of data, the other 3 are List, Tuple, and Dictionary, all with different qualities and usage.\n",
    "\n",
    "A set is a collection which is unordered, unchangeable*, and unindexed.\n",
    "\n",
    "* Note: Set items are unchangeable, but you can remove items and add new items."
   ]
  },
  {
   "cell_type": "code",
   "execution_count": 22,
   "id": "61b72aec",
   "metadata": {},
   "outputs": [
    {
     "name": "stdout",
     "output_type": "stream",
     "text": [
      "{1, 3, 4, 5, 6}\n",
      "<class 'set'>\n"
     ]
    }
   ],
   "source": [
    "#duplicate elements are not allowed\n",
    "#the order can be changed(unorder)\n",
    "a={1,5,6,3,6,4,5}\n",
    "print(a)\n",
    "print(type(a))"
   ]
  },
  {
   "cell_type": "code",
   "execution_count": 19,
   "id": "7eb9e8a0",
   "metadata": {},
   "outputs": [],
   "source": [
    "#we can add the element in set\n",
    "a.add(55)"
   ]
  },
  {
   "cell_type": "code",
   "execution_count": 20,
   "id": "f0cced2e",
   "metadata": {},
   "outputs": [
    {
     "name": "stdout",
     "output_type": "stream",
     "text": [
      "{1, 3, 4, 5, 6, 55}\n"
     ]
    }
   ],
   "source": [
    "print(a)"
   ]
  },
  {
   "cell_type": "code",
   "execution_count": 21,
   "id": "660fe81b",
   "metadata": {},
   "outputs": [
    {
     "name": "stdout",
     "output_type": "stream",
     "text": [
      "{3, 4, 5, 6, 55}\n"
     ]
    }
   ],
   "source": [
    "#We can remove the element\n",
    "a.pop()\n",
    "print(a)"
   ]
  },
  {
   "cell_type": "markdown",
   "id": "5abd91fe",
   "metadata": {},
   "source": [
    "# Dictionary\n",
    "Dictionaries are used to store data values in key:value pairs.\n",
    "\n",
    "A dictionary is a collection which is ordered*, changeable and do not allow duplicates.\n",
    "\n",
    "dictionaries are unordered.\n",
    "\n",
    "Dictionaries are written with curly brackets, and have keys and values:"
   ]
  },
  {
   "cell_type": "code",
   "execution_count": 27,
   "id": "0df9b25b",
   "metadata": {},
   "outputs": [
    {
     "name": "stdout",
     "output_type": "stream",
     "text": [
      "{'name': 'mohamadnaseer', 'age': 22, 'hight': 5.4, 'list': [1, 5, 2, 3, 6, 4], 'tuple': (1, 25, 5, 5, 8), 'set': {1, 5, 6, 55, 8, 77}}\n"
     ]
    }
   ],
   "source": [
    " dict={\n",
    "     \n",
    "     \"name\":\"mohamadnaseer\",\n",
    "     \"age\":22,\n",
    "     \"hight\":5.4,\n",
    "     \"list\":[1,5,2,3,6,4],\n",
    "     \"tuple\":(1,25,5,5,8),\n",
    "     \"set\":{1,5,8,6,55,77,5}\n",
    "     \n",
    " }\n",
    "print(dict)"
   ]
  },
  {
   "cell_type": "code",
   "execution_count": 28,
   "id": "e0d8182d",
   "metadata": {},
   "outputs": [
    {
     "name": "stdout",
     "output_type": "stream",
     "text": [
      "<class 'dict'>\n"
     ]
    }
   ],
   "source": [
    "print(type(dict))"
   ]
  },
  {
   "cell_type": "code",
   "execution_count": 33,
   "id": "dc0750cd",
   "metadata": {},
   "outputs": [
    {
     "name": "stdout",
     "output_type": "stream",
     "text": [
      "{1, 5, 6, 55, 8, 77}\n"
     ]
    }
   ],
   "source": [
    "print(dict[\"set\"])"
   ]
  },
  {
   "cell_type": "code",
   "execution_count": 35,
   "id": "8cd8ebcc",
   "metadata": {},
   "outputs": [
    {
     "name": "stdout",
     "output_type": "stream",
     "text": [
      "dict_keys(['name', 'age', 'hight', 'list', 'tuple', 'set'])\n"
     ]
    }
   ],
   "source": [
    "print(dict.keys())"
   ]
  },
  {
   "cell_type": "code",
   "execution_count": 37,
   "id": "776a5653",
   "metadata": {},
   "outputs": [
    {
     "name": "stdout",
     "output_type": "stream",
     "text": [
      "dict_values(['mohamadnaseer', 22, 5.4, [1, 5, 2, 3, 6, 4], (1, 25, 5, 5, 8), {1, 5, 6, 55, 8, 77}])\n"
     ]
    }
   ],
   "source": [
    "print(dict.values())"
   ]
  },
  {
   "cell_type": "code",
   "execution_count": 38,
   "id": "3cabe8bd",
   "metadata": {},
   "outputs": [],
   "source": [
    "#we can modify\n",
    "#we can age the data\n",
    "dict[\"age\"]=23"
   ]
  },
  {
   "cell_type": "code",
   "execution_count": 39,
   "id": "58490e71",
   "metadata": {},
   "outputs": [
    {
     "name": "stdout",
     "output_type": "stream",
     "text": [
      "{'name': 'mohamadnaseer', 'age': 23, 'hight': 5.4, 'list': [1, 5, 2, 3, 6, 4], 'tuple': (1, 25, 5, 5, 8), 'set': {1, 5, 6, 55, 8, 77}}\n"
     ]
    }
   ],
   "source": [
    "print(dict)"
   ]
  },
  {
   "cell_type": "code",
   "execution_count": 40,
   "id": "46c6432f",
   "metadata": {},
   "outputs": [],
   "source": [
    "#we can also add the data in dictionary\n",
    "dict[\"weight\"]=50"
   ]
  },
  {
   "cell_type": "code",
   "execution_count": 41,
   "id": "2812dead",
   "metadata": {},
   "outputs": [
    {
     "name": "stdout",
     "output_type": "stream",
     "text": [
      "{'name': 'mohamadnaseer', 'age': 23, 'hight': 5.4, 'list': [1, 5, 2, 3, 6, 4], 'tuple': (1, 25, 5, 5, 8), 'set': {1, 5, 6, 55, 8, 77}, 'weight': 50}\n"
     ]
    }
   ],
   "source": [
    "print(dict)"
   ]
  },
  {
   "cell_type": "code",
   "execution_count": 42,
   "id": "78ba6824",
   "metadata": {},
   "outputs": [],
   "source": [
    "#update\n",
    "dict.update({\"weight\":55})"
   ]
  },
  {
   "cell_type": "code",
   "execution_count": 43,
   "id": "92999eda",
   "metadata": {},
   "outputs": [
    {
     "name": "stdout",
     "output_type": "stream",
     "text": [
      "{'name': 'mohamadnaseer', 'age': 23, 'hight': 5.4, 'list': [1, 5, 2, 3, 6, 4], 'tuple': (1, 25, 5, 5, 8), 'set': {1, 5, 6, 55, 8, 77}, 'weight': 55}\n"
     ]
    }
   ],
   "source": [
    "print(dict)"
   ]
  },
  {
   "cell_type": "code",
   "execution_count": 44,
   "id": "a2ca0603",
   "metadata": {},
   "outputs": [
    {
     "data": {
      "text/plain": [
       "23"
      ]
     },
     "execution_count": 44,
     "metadata": {},
     "output_type": "execute_result"
    }
   ],
   "source": [
    "#delete\n",
    "dict.pop(\"age\")"
   ]
  },
  {
   "cell_type": "code",
   "execution_count": 45,
   "id": "674fbed9",
   "metadata": {},
   "outputs": [
    {
     "name": "stdout",
     "output_type": "stream",
     "text": [
      "{'name': 'mohamadnaseer', 'hight': 5.4, 'list': [1, 5, 2, 3, 6, 4], 'tuple': (1, 25, 5, 5, 8), 'set': {1, 5, 6, 55, 8, 77}, 'weight': 55}\n"
     ]
    }
   ],
   "source": [
    "print(dict)"
   ]
  },
  {
   "cell_type": "code",
   "execution_count": 46,
   "id": "bfda36c4",
   "metadata": {},
   "outputs": [],
   "source": [
    "#clear dictionary\n",
    "dict.clear()"
   ]
  },
  {
   "cell_type": "code",
   "execution_count": 47,
   "id": "89501fc1",
   "metadata": {},
   "outputs": [
    {
     "name": "stdout",
     "output_type": "stream",
     "text": [
      "{}\n"
     ]
    }
   ],
   "source": [
    "print(dict)"
   ]
  },
  {
   "cell_type": "code",
   "execution_count": null,
   "id": "6bff16f8",
   "metadata": {},
   "outputs": [],
   "source": []
  }
 ],
 "metadata": {
  "kernelspec": {
   "display_name": "Python 3 (ipykernel)",
   "language": "python",
   "name": "python3"
  },
  "language_info": {
   "codemirror_mode": {
    "name": "ipython",
    "version": 3
   },
   "file_extension": ".py",
   "mimetype": "text/x-python",
   "name": "python",
   "nbconvert_exporter": "python",
   "pygments_lexer": "ipython3",
   "version": "3.9.7"
  }
 },
 "nbformat": 4,
 "nbformat_minor": 5
}
